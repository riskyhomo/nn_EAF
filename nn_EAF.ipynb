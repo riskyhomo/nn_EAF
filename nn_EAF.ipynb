{
 "cells": [
  {
   "cell_type": "code",
   "execution_count": 1,
   "metadata": {},
   "outputs": [
    {
     "name": "stdout",
     "output_type": "stream",
     "text": [
      "Requirement already satisfied: pandas in c:\\programdata\\miniconda3\\lib\\site-packages (2.2.1)\n",
      "Requirement already satisfied: numpy<2,>=1.22.4 in c:\\programdata\\miniconda3\\lib\\site-packages (from pandas) (1.26.4)\n",
      "Requirement already satisfied: tzdata>=2022.7 in c:\\programdata\\miniconda3\\lib\\site-packages (from pandas) (2024.1)\n",
      "Requirement already satisfied: pytz>=2020.1 in c:\\programdata\\miniconda3\\lib\\site-packages (from pandas) (2024.1)\n",
      "Requirement already satisfied: python-dateutil>=2.8.2 in c:\\programdata\\miniconda3\\lib\\site-packages (from pandas) (2.9.0)\n",
      "Requirement already satisfied: six>=1.5 in c:\\programdata\\miniconda3\\lib\\site-packages (from python-dateutil>=2.8.2->pandas) (1.16.0)\n",
      "Note: you may need to restart the kernel to use updated packages.\n",
      "Requirement already satisfied: numpy in c:\\programdata\\miniconda3\\lib\\site-packages (1.26.4)\n",
      "Note: you may need to restart the kernel to use updated packages.\n"
     ]
    }
   ],
   "source": [
    "%pip install pandas\n",
    "%pip install numpy\n",
    "import pandas as pd \n",
    "import numpy as np \n"
   ]
  },
  {
   "cell_type": "code",
   "execution_count": 5,
   "metadata": {},
   "outputs": [
    {
     "data": {
      "text/html": [
       "<div>\n",
       "<style scoped>\n",
       "    .dataframe tbody tr th:only-of-type {\n",
       "        vertical-align: middle;\n",
       "    }\n",
       "\n",
       "    .dataframe tbody tr th {\n",
       "        vertical-align: top;\n",
       "    }\n",
       "\n",
       "    .dataframe thead th {\n",
       "        text-align: right;\n",
       "    }\n",
       "</style>\n",
       "<table border=\"1\" class=\"dataframe\">\n",
       "  <thead>\n",
       "    <tr style=\"text-align: right;\">\n",
       "      <th></th>\n",
       "      <th>HEATID</th>\n",
       "      <th>DATETIME</th>\n",
       "      <th>TEMP</th>\n",
       "      <th>VALO2_PPM</th>\n",
       "    </tr>\n",
       "  </thead>\n",
       "  <tbody>\n",
       "    <tr>\n",
       "      <th>0</th>\n",
       "      <td>6F0020</td>\n",
       "      <td>2016-01-01 19:15:00</td>\n",
       "      <td>1650.0</td>\n",
       "      <td>1242.0</td>\n",
       "    </tr>\n",
       "    <tr>\n",
       "      <th>1</th>\n",
       "      <td>6F0021</td>\n",
       "      <td>2016-01-01 20:05:00</td>\n",
       "      <td>1649.0</td>\n",
       "      <td>1160.0</td>\n",
       "    </tr>\n",
       "    <tr>\n",
       "      <th>2</th>\n",
       "      <td>6F0021</td>\n",
       "      <td>2016-01-01 20:05:00</td>\n",
       "      <td>1649.0</td>\n",
       "      <td>1160.0</td>\n",
       "    </tr>\n",
       "    <tr>\n",
       "      <th>3</th>\n",
       "      <td>6F0021</td>\n",
       "      <td>2016-01-01 20:03:00</td>\n",
       "      <td>1606.0</td>\n",
       "      <td>1152.0</td>\n",
       "    </tr>\n",
       "    <tr>\n",
       "      <th>4</th>\n",
       "      <td>6F0022</td>\n",
       "      <td>2016-01-01 21:03:00</td>\n",
       "      <td>1636.0</td>\n",
       "      <td>947.0</td>\n",
       "    </tr>\n",
       "  </tbody>\n",
       "</table>\n",
       "</div>"
      ],
      "text/plain": [
       "   HEATID             DATETIME    TEMP  VALO2_PPM\n",
       "0  6F0020  2016-01-01 19:15:00  1650.0     1242.0\n",
       "1  6F0021  2016-01-01 20:05:00  1649.0     1160.0\n",
       "2  6F0021  2016-01-01 20:05:00  1649.0     1160.0\n",
       "3  6F0021  2016-01-01 20:03:00  1606.0     1152.0\n",
       "4  6F0022  2016-01-01 21:03:00  1636.0      947.0"
      ]
     },
     "execution_count": 5,
     "metadata": {},
     "output_type": "execute_result"
    }
   ],
   "source": [
    "df = pd.read_csv(\"eaf_temp.csv\")\n",
    "df.head()\n"
   ]
  },
  {
   "cell_type": "code",
   "execution_count": 6,
   "metadata": {},
   "outputs": [
    {
     "name": "stdout",
     "output_type": "stream",
     "text": [
      "<class 'pandas.core.frame.DataFrame'>\n",
      "RangeIndex: 85104 entries, 0 to 85103\n",
      "Data columns (total 4 columns):\n",
      " #   Column     Non-Null Count  Dtype  \n",
      "---  ------     --------------  -----  \n",
      " 0   HEATID     85104 non-null  object \n",
      " 1   DATETIME   85104 non-null  object \n",
      " 2   TEMP       85104 non-null  float64\n",
      " 3   VALO2_PPM  85104 non-null  float64\n",
      "dtypes: float64(2), object(2)\n",
      "memory usage: 2.6+ MB\n"
     ]
    }
   ],
   "source": [
    "df.info()"
   ]
  },
  {
   "cell_type": "code",
   "execution_count": 24,
   "metadata": {},
   "outputs": [
    {
     "name": "stdout",
     "output_type": "stream",
     "text": [
      "<class 'pandas.core.frame.DataFrame'>\n",
      "RangeIndex: 85104 entries, 0 to 85103\n",
      "Data columns (total 3 columns):\n",
      " #   Column     Non-Null Count  Dtype         \n",
      "---  ------     --------------  -----         \n",
      " 0   DATETIME   85104 non-null  datetime64[ns]\n",
      " 1   TEMP       85104 non-null  float64       \n",
      " 2   VALO2_PPM  85104 non-null  float64       \n",
      "dtypes: datetime64[ns](1), float64(2)\n",
      "memory usage: 1.9 MB\n"
     ]
    }
   ],
   "source": [
    "df[\"DATETIME\"] = pd.to_datetime(df[\"DATETIME\"])                     \n",
    "df.head()\n",
    "df.info()\n"
   ]
  },
  {
   "cell_type": "code",
   "execution_count": 25,
   "metadata": {},
   "outputs": [],
   "source": [
    "#make plots of the data\n",
    "X = df\n",
    "y = df[:10]\n"
   ]
  },
  {
   "cell_type": "code",
   "execution_count": 2,
   "metadata": {},
   "outputs": [
    {
     "name": "stdout",
     "output_type": "stream",
     "text": [
      "<class 'pandas.core.frame.DataFrame'>\n",
      "RangeIndex: 356830 entries, 0 to 356829\n",
      "Data columns (total 23 columns):\n",
      " #   Column           Non-Null Count   Dtype  \n",
      "---  ------           --------------   -----  \n",
      " 0   Unnamed: 0       356830 non-null  int64  \n",
      " 1   POSITIONROW      356830 non-null  float64\n",
      " 2   DATETIME         356830 non-null  object \n",
      " 3   VALC             356830 non-null  float64\n",
      " 4   VALSI            356830 non-null  float64\n",
      " 5   VALMN            356830 non-null  float64\n",
      " 6   VALP             356830 non-null  float64\n",
      " 7   VALS             356830 non-null  float64\n",
      " 8   VALCU            356830 non-null  float64\n",
      " 9   VALCR            356830 non-null  float64\n",
      " 10  VALMO            356830 non-null  float64\n",
      " 11  VALNI            356830 non-null  float64\n",
      " 12  TAP              356830 non-null  float64\n",
      " 13  STARTTIME        356830 non-null  object \n",
      " 14  MW               356830 non-null  float64\n",
      " 15  TEMP             356830 non-null  float64\n",
      " 16  VALO2_PPM        356830 non-null  float64\n",
      " 17  YEAR             356830 non-null  float64\n",
      " 18  MONTH            356830 non-null  float64\n",
      " 19  HOUR             356830 non-null  float64\n",
      " 20  MINUTES          356830 non-null  float64\n",
      " 21  SECONDS          356830 non-null  float64\n",
      " 22  total_chem_comp  356830 non-null  float64\n",
      "dtypes: float64(20), int64(1), object(2)\n",
      "memory usage: 62.6+ MB\n"
     ]
    }
   ],
   "source": [
    "df_final = pd.read_csv(\"df_final.csv\")\n",
    "df_final.info()"
   ]
  },
  {
   "cell_type": "code",
   "execution_count": null,
   "metadata": {},
   "outputs": [],
   "source": [
    "import torch\n",
    "from torch import nn\n",
    "import torch\n",
    "from torch import nn\n",
    "from torch.utils.data import Dataset, DataLoader\n",
    "\n",
    "# Define the number of input features\n",
    "n_features = df.shape[1] - 1  # subtract 1 because 'MW' is the target, not an input feature\n",
    "\n",
    "# Define the network\n",
    "class Net(nn.Module):\n",
    "    def __init__(self):\n",
    "        super(Net, self).__init__()\n",
    "        self.fc1 = nn.Linear(n_features, 128)  # First layer\n",
    "        self.fc2 = nn.Linear(128, 64)  # Second layer\n",
    "        self.fc3 = nn.Linear(64, 1)  # Output layer\n",
    "\n",
    "    def forward(self, x):\n",
    "        x = torch.relu(self.fc1(x))\n",
    "        x = torch.relu(self.fc2(x))\n",
    "        x = self.fc3(x)\n",
    "        return x\n",
    "\n",
    "net = Net()\n",
    "# Define the number of input features\n",
    "n_features = df_final.shape[1] - 1  # subtract 1 because 'MW' is the target, not an input feature\n",
    "\n",
    "# Define the network\n",
    "class Net(nn.Module):\n",
    "    def __init__(self):\n",
    "        super(Net, self).__init__()\n",
    "        self.fc1 = nn.Linear(n_features, 128)  # First layer\n",
    "        self.fc2 = nn.Linear(128, 64)  # Second layer\n",
    "        self.fc3 = nn.Linear(64, 1)  # Output layer\n",
    "\n",
    "    def forward(self, x):\n",
    "        x = torch.relu(self.fc1(x))\n",
    "        x = torch.relu(self.fc2(x))\n",
    "        x = self.fc3(x)\n",
    "        return x\n",
    "\n",
    "net = Net()\n",
    "print(net)\n",
    "\n",
    "# Prepare the data\n",
    "class MyDataset(Dataset):\n",
    "    def __init__(self, df):\n",
    "        self.X = df.drop('MW', axis=1).values\n",
    "        self.y = df[['MW']].values\n",
    "\n",
    "    def __len__(self):\n",
    "        return len(self.y)\n",
    "\n",
    "    def __getitem__(self, idx):\n",
    "        return self.X[idx], self.y[idx]\n",
    "\n",
    "dataset = MyDataset(df_final)\n",
    "dataloader = DataLoader(dataset, batch_size=32, shuffle=True)\n",
    "\n",
    "# Define a loss function and an optimizer\n",
    "criterion = nn.MSELoss()\n",
    "optimizer = torch.optim.Adam(net.parameters(), lr=0.001)\n",
    "\n",
    "# Train the network\n",
    "for epoch in range(100):  # loop over the dataset multiple times\n",
    "    running_loss = 0.0\n",
    "    for i, data in enumerate(dataloader, 0):\n",
    "        # get the inputs; data is a list of [inputs, labels]\n",
    "        inputs, labels = data\n",
    "\n",
    "        # zero the parameter gradients\n",
    "        optimizer.zero_grad()\n",
    "\n",
    "        # forward + backward + optimize\n",
    "        outputs = net(inputs.float())\n",
    "        loss = criterion(outputs, labels.float())\n",
    "        loss.backward()\n",
    "        optimizer.step()\n",
    "\n",
    "        # print statistics\n",
    "        running_loss += loss.item()\n",
    "    print('Epoch %d loss: %.3f' % (epoch + 1, running_loss / len(dataloader)))\n",
    "\n",
    "print('Finished Training')\n",
    "print(net)\n"
   ]
  },
  {
   "cell_type": "code",
   "execution_count": null,
   "metadata": {},
   "outputs": [],
   "source": []
  }
 ],
 "metadata": {
  "kernelspec": {
   "display_name": "Python 3",
   "language": "python",
   "name": "python3"
  },
  "language_info": {
   "codemirror_mode": {
    "name": "ipython",
    "version": 3
   },
   "file_extension": ".py",
   "mimetype": "text/x-python",
   "name": "python",
   "nbconvert_exporter": "python",
   "pygments_lexer": "ipython3",
   "version": "3.10.8"
  }
 },
 "nbformat": 4,
 "nbformat_minor": 2
}
