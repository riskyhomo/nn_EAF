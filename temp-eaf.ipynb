{
 "cells": [
  {
   "cell_type": "code",
   "execution_count": 1,
   "id": "ebbf74ac",
   "metadata": {
    "_cell_guid": "b1076dfc-b9ad-4769-8c92-a6c4dae69d19",
    "_uuid": "8f2839f25d086af736a60e9eeb907d3b93b6e0e5",
    "execution": {
     "iopub.execute_input": "2024-03-23T16:56:12.566857Z",
     "iopub.status.busy": "2024-03-23T16:56:12.566487Z",
     "iopub.status.idle": "2024-03-23T16:56:13.361456Z",
     "shell.execute_reply": "2024-03-23T16:56:13.360058Z"
    },
    "papermill": {
     "duration": 0.80781,
     "end_time": "2024-03-23T16:56:13.364102",
     "exception": false,
     "start_time": "2024-03-23T16:56:12.556292",
     "status": "completed"
    },
    "tags": []
   },
   "outputs": [
    {
     "name": "stdout",
     "output_type": "stream",
     "text": [
      "/kaggle/input/industrial-data-from-the-arc-furnace/lf_initial_chemical_measurements.csv\n",
      "/kaggle/input/industrial-data-from-the-arc-furnace/ladle_tapping.csv\n",
      "/kaggle/input/industrial-data-from-the-arc-furnace/eaf_added_materials.csv\n",
      "/kaggle/input/industrial-data-from-the-arc-furnace/basket_charged.csv\n",
      "/kaggle/input/industrial-data-from-the-arc-furnace/inj_mat.csv\n",
      "/kaggle/input/industrial-data-from-the-arc-furnace/eaf_temp.csv\n",
      "/kaggle/input/industrial-data-from-the-arc-furnace/eaf_final_chemical_measurements.csv\n",
      "/kaggle/input/industrial-data-from-the-arc-furnace/ferro.csv\n",
      "/kaggle/input/industrial-data-from-the-arc-furnace/eaf_gaslance_mat.csv\n",
      "/kaggle/input/industrial-data-from-the-arc-furnace/eaf_transformer.csv\n",
      "/kaggle/input/industrial-data-from-the-arc-furnace/lf_added_materials.csv\n"
     ]
    }
   ],
   "source": [
    "# This Python 3 environment comes with many helpful analytics libraries installed\n",
    "# It is defined by the kaggle/python Docker image: https://github.com/kaggle/docker-python\n",
    "# For example, here's several helpful packages to load\n",
    "\n",
    "import numpy as np # linear algebra\n",
    "import pandas as pd # data processing, CSV file I/O (e.g. pd.read_csv)\n",
    "\n",
    "# Input data files are available in the read-only \"../input/\" directory\n",
    "# For example, running this (by clicking run or pressing Shift+Enter) will list all files under the input directory\n",
    "\n",
    "import os\n",
    "for dirname, _, filenames in os.walk('/kaggle/input'):\n",
    "    for filename in filenames:\n",
    "        print(os.path.join(dirname, filename))\n",
    "\n",
    "# You can write up to 20GB to the current directory (/kaggle/working/) that gets preserved as output when you create a version using \"Save & Run All\" \n",
    "# You can also write temporary files to /kaggle/temp/, but they won't be saved outside of the current session"
   ]
  },
  {
   "cell_type": "code",
   "execution_count": 2,
   "id": "026e012b",
   "metadata": {
    "execution": {
     "iopub.execute_input": "2024-03-23T16:56:13.382919Z",
     "iopub.status.busy": "2024-03-23T16:56:13.382467Z",
     "iopub.status.idle": "2024-03-23T16:56:13.387321Z",
     "shell.execute_reply": "2024-03-23T16:56:13.386346Z"
    },
    "papermill": {
     "duration": 0.016793,
     "end_time": "2024-03-23T16:56:13.389524",
     "exception": false,
     "start_time": "2024-03-23T16:56:13.372731",
     "status": "completed"
    },
    "tags": []
   },
   "outputs": [],
   "source": [
    "import pandas as pd\n",
    "import numpy as np "
   ]
  },
  {
   "cell_type": "code",
   "execution_count": 3,
   "id": "6e031e6a",
   "metadata": {
    "execution": {
     "iopub.execute_input": "2024-03-23T16:56:13.407588Z",
     "iopub.status.busy": "2024-03-23T16:56:13.406744Z",
     "iopub.status.idle": "2024-03-23T16:56:13.571870Z",
     "shell.execute_reply": "2024-03-23T16:56:13.570676Z"
    },
    "papermill": {
     "duration": 0.176684,
     "end_time": "2024-03-23T16:56:13.574297",
     "exception": false,
     "start_time": "2024-03-23T16:56:13.397613",
     "status": "completed"
    },
    "tags": []
   },
   "outputs": [
    {
     "data": {
      "text/html": [
       "<div>\n",
       "<style scoped>\n",
       "    .dataframe tbody tr th:only-of-type {\n",
       "        vertical-align: middle;\n",
       "    }\n",
       "\n",
       "    .dataframe tbody tr th {\n",
       "        vertical-align: top;\n",
       "    }\n",
       "\n",
       "    .dataframe thead th {\n",
       "        text-align: right;\n",
       "    }\n",
       "</style>\n",
       "<table border=\"1\" class=\"dataframe\">\n",
       "  <thead>\n",
       "    <tr style=\"text-align: right;\">\n",
       "      <th></th>\n",
       "      <th>HEATID</th>\n",
       "      <th>DATETIME</th>\n",
       "      <th>TEMP</th>\n",
       "      <th>VALO2_PPM</th>\n",
       "    </tr>\n",
       "  </thead>\n",
       "  <tbody>\n",
       "    <tr>\n",
       "      <th>0</th>\n",
       "      <td>6F0020</td>\n",
       "      <td>2016-01-01 19:15:00</td>\n",
       "      <td>1650.0</td>\n",
       "      <td>1242.0</td>\n",
       "    </tr>\n",
       "    <tr>\n",
       "      <th>1</th>\n",
       "      <td>6F0021</td>\n",
       "      <td>2016-01-01 20:05:00</td>\n",
       "      <td>1649.0</td>\n",
       "      <td>1160.0</td>\n",
       "    </tr>\n",
       "    <tr>\n",
       "      <th>2</th>\n",
       "      <td>6F0021</td>\n",
       "      <td>2016-01-01 20:05:00</td>\n",
       "      <td>1649.0</td>\n",
       "      <td>1160.0</td>\n",
       "    </tr>\n",
       "    <tr>\n",
       "      <th>3</th>\n",
       "      <td>6F0021</td>\n",
       "      <td>2016-01-01 20:03:00</td>\n",
       "      <td>1606.0</td>\n",
       "      <td>1152.0</td>\n",
       "    </tr>\n",
       "    <tr>\n",
       "      <th>4</th>\n",
       "      <td>6F0022</td>\n",
       "      <td>2016-01-01 21:03:00</td>\n",
       "      <td>1636.0</td>\n",
       "      <td>947.0</td>\n",
       "    </tr>\n",
       "    <tr>\n",
       "      <th>...</th>\n",
       "      <td>...</td>\n",
       "      <td>...</td>\n",
       "      <td>...</td>\n",
       "      <td>...</td>\n",
       "    </tr>\n",
       "    <tr>\n",
       "      <th>85099</th>\n",
       "      <td>5F8441</td>\n",
       "      <td>2015-12-31 21:53:00</td>\n",
       "      <td>1653.0</td>\n",
       "      <td>0.0</td>\n",
       "    </tr>\n",
       "    <tr>\n",
       "      <th>85100</th>\n",
       "      <td>5F8441</td>\n",
       "      <td>2015-12-31 21:54:00</td>\n",
       "      <td>1650.0</td>\n",
       "      <td>1133.0</td>\n",
       "    </tr>\n",
       "    <tr>\n",
       "      <th>85101</th>\n",
       "      <td>5F8441</td>\n",
       "      <td>2015-12-31 21:52:00</td>\n",
       "      <td>1603.0</td>\n",
       "      <td>0.0</td>\n",
       "    </tr>\n",
       "    <tr>\n",
       "      <th>85102</th>\n",
       "      <td>5F8442</td>\n",
       "      <td>2015-12-31 22:38:00</td>\n",
       "      <td>1667.0</td>\n",
       "      <td>1253.0</td>\n",
       "    </tr>\n",
       "    <tr>\n",
       "      <th>85103</th>\n",
       "      <td>5F8442</td>\n",
       "      <td>2015-12-31 22:37:00</td>\n",
       "      <td>1633.0</td>\n",
       "      <td>0.0</td>\n",
       "    </tr>\n",
       "  </tbody>\n",
       "</table>\n",
       "<p>85104 rows × 4 columns</p>\n",
       "</div>"
      ],
      "text/plain": [
       "       HEATID             DATETIME    TEMP  VALO2_PPM\n",
       "0      6F0020  2016-01-01 19:15:00  1650.0     1242.0\n",
       "1      6F0021  2016-01-01 20:05:00  1649.0     1160.0\n",
       "2      6F0021  2016-01-01 20:05:00  1649.0     1160.0\n",
       "3      6F0021  2016-01-01 20:03:00  1606.0     1152.0\n",
       "4      6F0022  2016-01-01 21:03:00  1636.0      947.0\n",
       "...       ...                  ...     ...        ...\n",
       "85099  5F8441  2015-12-31 21:53:00  1653.0        0.0\n",
       "85100  5F8441  2015-12-31 21:54:00  1650.0     1133.0\n",
       "85101  5F8441  2015-12-31 21:52:00  1603.0        0.0\n",
       "85102  5F8442  2015-12-31 22:38:00  1667.0     1253.0\n",
       "85103  5F8442  2015-12-31 22:37:00  1633.0        0.0\n",
       "\n",
       "[85104 rows x 4 columns]"
      ]
     },
     "execution_count": 3,
     "metadata": {},
     "output_type": "execute_result"
    }
   ],
   "source": [
    "df = pd.read_csv(\"/kaggle/input/industrial-data-from-the-arc-furnace/eaf_temp.csv\")\n",
    "df"
   ]
  },
  {
   "cell_type": "code",
   "execution_count": 4,
   "id": "1fc2ff9c",
   "metadata": {
    "execution": {
     "iopub.execute_input": "2024-03-23T16:56:13.592600Z",
     "iopub.status.busy": "2024-03-23T16:56:13.592215Z",
     "iopub.status.idle": "2024-03-23T16:56:13.605180Z",
     "shell.execute_reply": "2024-03-23T16:56:13.604164Z"
    },
    "papermill": {
     "duration": 0.024337,
     "end_time": "2024-03-23T16:56:13.607258",
     "exception": false,
     "start_time": "2024-03-23T16:56:13.582921",
     "status": "completed"
    },
    "tags": []
   },
   "outputs": [
    {
     "data": {
      "text/html": [
       "<div>\n",
       "<style scoped>\n",
       "    .dataframe tbody tr th:only-of-type {\n",
       "        vertical-align: middle;\n",
       "    }\n",
       "\n",
       "    .dataframe tbody tr th {\n",
       "        vertical-align: top;\n",
       "    }\n",
       "\n",
       "    .dataframe thead th {\n",
       "        text-align: right;\n",
       "    }\n",
       "</style>\n",
       "<table border=\"1\" class=\"dataframe\">\n",
       "  <thead>\n",
       "    <tr style=\"text-align: right;\">\n",
       "      <th></th>\n",
       "      <th>HEATID</th>\n",
       "      <th>DATETIME</th>\n",
       "      <th>TEMP</th>\n",
       "      <th>VALO2_PPM</th>\n",
       "    </tr>\n",
       "  </thead>\n",
       "  <tbody>\n",
       "    <tr>\n",
       "      <th>0</th>\n",
       "      <td>6F0020</td>\n",
       "      <td>2016-01-01 19:15:00</td>\n",
       "      <td>1650.0</td>\n",
       "      <td>1242.0</td>\n",
       "    </tr>\n",
       "    <tr>\n",
       "      <th>1</th>\n",
       "      <td>6F0021</td>\n",
       "      <td>2016-01-01 20:05:00</td>\n",
       "      <td>1649.0</td>\n",
       "      <td>1160.0</td>\n",
       "    </tr>\n",
       "    <tr>\n",
       "      <th>2</th>\n",
       "      <td>6F0021</td>\n",
       "      <td>2016-01-01 20:05:00</td>\n",
       "      <td>1649.0</td>\n",
       "      <td>1160.0</td>\n",
       "    </tr>\n",
       "    <tr>\n",
       "      <th>3</th>\n",
       "      <td>6F0021</td>\n",
       "      <td>2016-01-01 20:03:00</td>\n",
       "      <td>1606.0</td>\n",
       "      <td>1152.0</td>\n",
       "    </tr>\n",
       "    <tr>\n",
       "      <th>4</th>\n",
       "      <td>6F0022</td>\n",
       "      <td>2016-01-01 21:03:00</td>\n",
       "      <td>1636.0</td>\n",
       "      <td>947.0</td>\n",
       "    </tr>\n",
       "  </tbody>\n",
       "</table>\n",
       "</div>"
      ],
      "text/plain": [
       "   HEATID             DATETIME    TEMP  VALO2_PPM\n",
       "0  6F0020  2016-01-01 19:15:00  1650.0     1242.0\n",
       "1  6F0021  2016-01-01 20:05:00  1649.0     1160.0\n",
       "2  6F0021  2016-01-01 20:05:00  1649.0     1160.0\n",
       "3  6F0021  2016-01-01 20:03:00  1606.0     1152.0\n",
       "4  6F0022  2016-01-01 21:03:00  1636.0      947.0"
      ]
     },
     "execution_count": 4,
     "metadata": {},
     "output_type": "execute_result"
    }
   ],
   "source": [
    "df.head()"
   ]
  },
  {
   "cell_type": "code",
   "execution_count": 5,
   "id": "1966f26c",
   "metadata": {
    "execution": {
     "iopub.execute_input": "2024-03-23T16:56:13.626604Z",
     "iopub.status.busy": "2024-03-23T16:56:13.625895Z",
     "iopub.status.idle": "2024-03-23T16:56:13.667476Z",
     "shell.execute_reply": "2024-03-23T16:56:13.666604Z"
    },
    "papermill": {
     "duration": 0.053682,
     "end_time": "2024-03-23T16:56:13.669699",
     "exception": false,
     "start_time": "2024-03-23T16:56:13.616017",
     "status": "completed"
    },
    "tags": []
   },
   "outputs": [],
   "source": [
    "df[\"DATETIME\"] = pd.to_datetime(df[\"DATETIME\"])"
   ]
  },
  {
   "cell_type": "code",
   "execution_count": 6,
   "id": "3ed10beb",
   "metadata": {
    "execution": {
     "iopub.execute_input": "2024-03-23T16:56:13.688494Z",
     "iopub.status.busy": "2024-03-23T16:56:13.688151Z",
     "iopub.status.idle": "2024-03-23T16:56:13.718704Z",
     "shell.execute_reply": "2024-03-23T16:56:13.717656Z"
    },
    "papermill": {
     "duration": 0.042605,
     "end_time": "2024-03-23T16:56:13.721044",
     "exception": false,
     "start_time": "2024-03-23T16:56:13.678439",
     "status": "completed"
    },
    "tags": []
   },
   "outputs": [
    {
     "name": "stdout",
     "output_type": "stream",
     "text": [
      "<class 'pandas.core.frame.DataFrame'>\n",
      "RangeIndex: 85104 entries, 0 to 85103\n",
      "Data columns (total 4 columns):\n",
      " #   Column     Non-Null Count  Dtype         \n",
      "---  ------     --------------  -----         \n",
      " 0   HEATID     85104 non-null  object        \n",
      " 1   DATETIME   85104 non-null  datetime64[ns]\n",
      " 2   TEMP       85104 non-null  float64       \n",
      " 3   VALO2_PPM  85104 non-null  float64       \n",
      "dtypes: datetime64[ns](1), float64(2), object(1)\n",
      "memory usage: 2.6+ MB\n"
     ]
    }
   ],
   "source": [
    "df.info()"
   ]
  },
  {
   "cell_type": "code",
   "execution_count": 7,
   "id": "f2827121",
   "metadata": {
    "execution": {
     "iopub.execute_input": "2024-03-23T16:56:13.740348Z",
     "iopub.status.busy": "2024-03-23T16:56:13.740031Z",
     "iopub.status.idle": "2024-03-23T16:56:14.960464Z",
     "shell.execute_reply": "2024-03-23T16:56:14.959280Z"
    },
    "papermill": {
     "duration": 1.232668,
     "end_time": "2024-03-23T16:56:14.962937",
     "exception": false,
     "start_time": "2024-03-23T16:56:13.730269",
     "status": "completed"
    },
    "tags": []
   },
   "outputs": [
    {
     "data": {
      "text/plain": [
       "(76593, 8511, 76593, 8511)"
      ]
     },
     "execution_count": 7,
     "metadata": {},
     "output_type": "execute_result"
    }
   ],
   "source": [
    "from sklearn.model_selection import train_test_split\n",
    "X = df[\"DATETIME\"]\n",
    "y = df[\"TEMP\"]\n",
    "X_train, X_test, y_train, y_test = train_test_split(X, y, test_size=0.1)\n",
    "len(X_train) , len(X_test) , len(y_train), len(y_test)"
   ]
  },
  {
   "cell_type": "code",
   "execution_count": 8,
   "id": "48d4993d",
   "metadata": {
    "execution": {
     "iopub.execute_input": "2024-03-23T16:56:14.985086Z",
     "iopub.status.busy": "2024-03-23T16:56:14.984135Z",
     "iopub.status.idle": "2024-03-23T16:56:14.991587Z",
     "shell.execute_reply": "2024-03-23T16:56:14.990348Z"
    },
    "papermill": {
     "duration": 0.020445,
     "end_time": "2024-03-23T16:56:14.994013",
     "exception": false,
     "start_time": "2024-03-23T16:56:14.973568",
     "status": "completed"
    },
    "tags": []
   },
   "outputs": [
    {
     "data": {
      "text/plain": [
       "(100,)"
      ]
     },
     "execution_count": 8,
     "metadata": {},
     "output_type": "execute_result"
    }
   ],
   "source": [
    "y_test = y_test[:100]\n",
    "y_test.shape"
   ]
  },
  {
   "cell_type": "code",
   "execution_count": 9,
   "id": "24c9befb",
   "metadata": {
    "execution": {
     "iopub.execute_input": "2024-03-23T16:56:15.014389Z",
     "iopub.status.busy": "2024-03-23T16:56:15.014023Z",
     "iopub.status.idle": "2024-03-23T16:56:15.019210Z",
     "shell.execute_reply": "2024-03-23T16:56:15.018077Z"
    },
    "papermill": {
     "duration": 0.018007,
     "end_time": "2024-03-23T16:56:15.021499",
     "exception": false,
     "start_time": "2024-03-23T16:56:15.003492",
     "status": "completed"
    },
    "tags": []
   },
   "outputs": [],
   "source": [
    "X_train = np.reshape(X_train, (-1, 1))\n",
    "X_test = np.reshape(X_test, (-1, 1))\n"
   ]
  },
  {
   "cell_type": "code",
   "execution_count": 10,
   "id": "53574fc6",
   "metadata": {
    "execution": {
     "iopub.execute_input": "2024-03-23T16:56:15.041662Z",
     "iopub.status.busy": "2024-03-23T16:56:15.040938Z",
     "iopub.status.idle": "2024-03-23T16:56:15.047245Z",
     "shell.execute_reply": "2024-03-23T16:56:15.046341Z"
    },
    "papermill": {
     "duration": 0.018851,
     "end_time": "2024-03-23T16:56:15.049544",
     "exception": false,
     "start_time": "2024-03-23T16:56:15.030693",
     "status": "completed"
    },
    "tags": []
   },
   "outputs": [
    {
     "data": {
      "text/plain": [
       "(8511, 1)"
      ]
     },
     "execution_count": 10,
     "metadata": {},
     "output_type": "execute_result"
    }
   ],
   "source": [
    "X_test.shape"
   ]
  },
  {
   "cell_type": "code",
   "execution_count": 11,
   "id": "ca334498",
   "metadata": {
    "execution": {
     "iopub.execute_input": "2024-03-23T16:56:15.069632Z",
     "iopub.status.busy": "2024-03-23T16:56:15.069277Z",
     "iopub.status.idle": "2024-03-23T16:56:15.076218Z",
     "shell.execute_reply": "2024-03-23T16:56:15.075349Z"
    },
    "papermill": {
     "duration": 0.019464,
     "end_time": "2024-03-23T16:56:15.078444",
     "exception": false,
     "start_time": "2024-03-23T16:56:15.058980",
     "status": "completed"
    },
    "tags": []
   },
   "outputs": [
    {
     "data": {
      "text/plain": [
       "(76593, 1)"
      ]
     },
     "execution_count": 11,
     "metadata": {},
     "output_type": "execute_result"
    }
   ],
   "source": [
    "y_train = np.reshape(y_train, (-1, 1))\n",
    "y_train.shape"
   ]
  },
  {
   "cell_type": "code",
   "execution_count": 12,
   "id": "28cdd9c1",
   "metadata": {
    "execution": {
     "iopub.execute_input": "2024-03-23T16:56:15.098829Z",
     "iopub.status.busy": "2024-03-23T16:56:15.098510Z",
     "iopub.status.idle": "2024-03-23T16:56:15.105949Z",
     "shell.execute_reply": "2024-03-23T16:56:15.105082Z"
    },
    "papermill": {
     "duration": 0.020414,
     "end_time": "2024-03-23T16:56:15.108209",
     "exception": false,
     "start_time": "2024-03-23T16:56:15.087795",
     "status": "completed"
    },
    "tags": []
   },
   "outputs": [],
   "source": [
    "from sklearn.preprocessing import MinMaxScaler\n",
    "scaler = MinMaxScaler()\n",
    "X_train_mm = scaler.fit_transform(X_train)\n",
    "X_test_mm = scaler.fit_transform(X_test)"
   ]
  },
  {
   "cell_type": "code",
   "execution_count": 13,
   "id": "3afdb847",
   "metadata": {
    "execution": {
     "iopub.execute_input": "2024-03-23T16:56:15.129753Z",
     "iopub.status.busy": "2024-03-23T16:56:15.128959Z",
     "iopub.status.idle": "2024-03-23T16:56:15.137702Z",
     "shell.execute_reply": "2024-03-23T16:56:15.136578Z"
    },
    "papermill": {
     "duration": 0.022194,
     "end_time": "2024-03-23T16:56:15.140082",
     "exception": false,
     "start_time": "2024-03-23T16:56:15.117888",
     "status": "completed"
    },
    "tags": []
   },
   "outputs": [],
   "source": [
    "from sklearn.preprocessing import StandardScaler \n",
    "scaler = StandardScaler()\n",
    "X_train_ss = scaler.fit_transform(X_train)\n",
    "X_test_ss = scaler.fit_transform(X_test)"
   ]
  },
  {
   "cell_type": "code",
   "execution_count": 14,
   "id": "1ee1d734",
   "metadata": {
    "execution": {
     "iopub.execute_input": "2024-03-23T16:56:15.160682Z",
     "iopub.status.busy": "2024-03-23T16:56:15.160334Z",
     "iopub.status.idle": "2024-03-23T16:56:15.165081Z",
     "shell.execute_reply": "2024-03-23T16:56:15.164106Z"
    },
    "papermill": {
     "duration": 0.017411,
     "end_time": "2024-03-23T16:56:15.167169",
     "exception": false,
     "start_time": "2024-03-23T16:56:15.149758",
     "status": "completed"
    },
    "tags": []
   },
   "outputs": [],
   "source": [
    "T=1\n",
    "HORIZON=100\n"
   ]
  },
  {
   "cell_type": "code",
   "execution_count": 15,
   "id": "2728c2f2",
   "metadata": {
    "execution": {
     "iopub.execute_input": "2024-03-23T16:56:15.187194Z",
     "iopub.status.busy": "2024-03-23T16:56:15.186879Z",
     "iopub.status.idle": "2024-03-23T16:56:15.192854Z",
     "shell.execute_reply": "2024-03-23T16:56:15.191914Z"
    },
    "papermill": {
     "duration": 0.018481,
     "end_time": "2024-03-23T16:56:15.195009",
     "exception": false,
     "start_time": "2024-03-23T16:56:15.176528",
     "status": "completed"
    },
    "tags": []
   },
   "outputs": [
    {
     "data": {
      "text/plain": [
       "dtype('<M8[ns]')"
      ]
     },
     "execution_count": 15,
     "metadata": {},
     "output_type": "execute_result"
    }
   ],
   "source": [
    "X_train.dtype"
   ]
  },
  {
   "cell_type": "code",
   "execution_count": 16,
   "id": "7cfafb46",
   "metadata": {
    "execution": {
     "iopub.execute_input": "2024-03-23T16:56:15.215898Z",
     "iopub.status.busy": "2024-03-23T16:56:15.214949Z",
     "iopub.status.idle": "2024-03-23T16:56:15.219680Z",
     "shell.execute_reply": "2024-03-23T16:56:15.218716Z"
    },
    "papermill": {
     "duration": 0.017497,
     "end_time": "2024-03-23T16:56:15.221878",
     "exception": false,
     "start_time": "2024-03-23T16:56:15.204381",
     "status": "completed"
    },
    "tags": []
   },
   "outputs": [],
   "source": [
    "LATENT_DIM = 5\n",
    "BATCH_SIZE = 8\n",
    "EPOCHS = 20"
   ]
  },
  {
   "cell_type": "code",
   "execution_count": 17,
   "id": "a370f862",
   "metadata": {
    "execution": {
     "iopub.execute_input": "2024-03-23T16:56:15.243043Z",
     "iopub.status.busy": "2024-03-23T16:56:15.242636Z",
     "iopub.status.idle": "2024-03-23T16:56:28.689319Z",
     "shell.execute_reply": "2024-03-23T16:56:28.688482Z"
    },
    "papermill": {
     "duration": 13.460386,
     "end_time": "2024-03-23T16:56:28.691878",
     "exception": false,
     "start_time": "2024-03-23T16:56:15.231492",
     "status": "completed"
    },
    "tags": []
   },
   "outputs": [
    {
     "name": "stderr",
     "output_type": "stream",
     "text": [
      "2024-03-23 16:56:18.298720: E external/local_xla/xla/stream_executor/cuda/cuda_dnn.cc:9261] Unable to register cuDNN factory: Attempting to register factory for plugin cuDNN when one has already been registered\n",
      "2024-03-23 16:56:18.298834: E external/local_xla/xla/stream_executor/cuda/cuda_fft.cc:607] Unable to register cuFFT factory: Attempting to register factory for plugin cuFFT when one has already been registered\n",
      "2024-03-23 16:56:18.429954: E external/local_xla/xla/stream_executor/cuda/cuda_blas.cc:1515] Unable to register cuBLAS factory: Attempting to register factory for plugin cuBLAS when one has already been registered\n"
     ]
    }
   ],
   "source": [
    "import pandas as pd\n",
    "import numpy as np\n",
    "import datetime as dt\n",
    "import os\n",
    "import warnings\n",
    "from collections import UserDict\n",
    "from glob import glob\n",
    "import matplotlib.pyplot as plt\n",
    "import numpy as np\n",
    "import pandas as pd\n",
    "from IPython.display import Image\n",
    "%matplotlib inline\n",
    "import matplotlib.dates as mpl_dates\n",
    "import seaborn as sns\n",
    "from statsmodels.tsa.ar_model import AutoReg, ar_select_order\n",
    "from statsmodels.tsa.api import acf, pacf, graphics\n",
    "from statsmodels.tsa.statespace.sarimax import SARIMAX\n",
    "from sklearn.preprocessing import MinMaxScaler\n",
    "import math\n",
    "from keras.models import Model, Sequential\n",
    "from keras.layers import GRU, Dense\n",
    "from keras.callbacks import EarlyStopping\n",
    "from keras.optimizers import RMSprop,Adam,Optimizer, SGD\n",
    "from tensorflow.keras.models import Sequential\n",
    "from keras.layers import Dense, Dropout, Flatten, Conv2D, MaxPool2D, BatchNormalization,MaxPooling2D,BatchNormalization,\\\n",
    "                        Permute, TimeDistributed, Bidirectional,GRU, SimpleRNN,\\\n",
    "LSTM, GlobalAveragePooling2D, SeparableConv2D, ZeroPadding2D, Convolution2D, ZeroPadding2D,Reshape, Conv2DTranspose, ReLU\n",
    "from keras import models\n",
    "from keras import layers\n",
    "import tensorflow as tf\n",
    "from keras.applications import VGG16,VGG19,inception_v3\n",
    "from keras import backend as K\n",
    "from keras.utils import plot_model\n",
    "from keras.datasets import mnist\n",
    "import keras"
   ]
  },
  {
   "cell_type": "code",
   "execution_count": 18,
   "id": "b4b26b9c",
   "metadata": {
    "execution": {
     "iopub.execute_input": "2024-03-23T16:56:28.712311Z",
     "iopub.status.busy": "2024-03-23T16:56:28.711657Z",
     "iopub.status.idle": "2024-03-23T16:56:28.718453Z",
     "shell.execute_reply": "2024-03-23T16:56:28.717558Z"
    },
    "papermill": {
     "duration": 0.018723,
     "end_time": "2024-03-23T16:56:28.720376",
     "exception": false,
     "start_time": "2024-03-23T16:56:28.701653",
     "status": "completed"
    },
    "tags": []
   },
   "outputs": [
    {
     "data": {
      "text/plain": [
       "(dtype('<M8[ns]'), dtype('<M8[ns]'), dtype('float64'), dtype('float64'))"
      ]
     },
     "execution_count": 18,
     "metadata": {},
     "output_type": "execute_result"
    }
   ],
   "source": [
    "X_train.dtype , X_test.dtype , y_train.dtype , y_test.dtype"
   ]
  },
  {
   "cell_type": "code",
   "execution_count": 19,
   "id": "4f8c76bc",
   "metadata": {
    "execution": {
     "iopub.execute_input": "2024-03-23T16:56:28.740638Z",
     "iopub.status.busy": "2024-03-23T16:56:28.740272Z",
     "iopub.status.idle": "2024-03-23T16:56:28.748496Z",
     "shell.execute_reply": "2024-03-23T16:56:28.747659Z"
    },
    "papermill": {
     "duration": 0.021173,
     "end_time": "2024-03-23T16:56:28.750607",
     "exception": false,
     "start_time": "2024-03-23T16:56:28.729434",
     "status": "completed"
    },
    "tags": []
   },
   "outputs": [
    {
     "data": {
      "text/plain": [
       "(dtype('float32'), dtype('float32'), dtype('float32'), dtype('float32'))"
      ]
     },
     "execution_count": 19,
     "metadata": {},
     "output_type": "execute_result"
    }
   ],
   "source": [
    "X_train = np.asarray(X_train).astype(np.float32)\n",
    "X_test = np.asarray(X_test).astype(np.float32)\n",
    "y_train = np.asarray(y_train).astype(np.float32)\n",
    "y_test = np.asarray(y_test).astype(np.float32)\n",
    "X_train.dtype , X_test.dtype , y_train.dtype , y_test.dtype"
   ]
  },
  {
   "cell_type": "code",
   "execution_count": 20,
   "id": "07166d40",
   "metadata": {
    "execution": {
     "iopub.execute_input": "2024-03-23T16:56:28.771519Z",
     "iopub.status.busy": "2024-03-23T16:56:28.771175Z",
     "iopub.status.idle": "2024-03-23T16:56:30.496483Z",
     "shell.execute_reply": "2024-03-23T16:56:30.495340Z"
    },
    "papermill": {
     "duration": 1.746306,
     "end_time": "2024-03-23T16:56:30.506882",
     "exception": false,
     "start_time": "2024-03-23T16:56:28.760576",
     "status": "completed"
    },
    "tags": []
   },
   "outputs": [
    {
     "name": "stderr",
     "output_type": "stream",
     "text": [
      "/opt/conda/lib/python3.10/site-packages/keras/src/layers/rnn/rnn.py:205: UserWarning: Do not pass an `input_shape`/`input_dim` argument to a layer. When using Sequential models, prefer using an `Input(shape)` object as the first layer in the model instead.\n",
      "  super().__init__(**kwargs)\n"
     ]
    },
    {
     "data": {
      "text/html": [
       "<pre style=\"white-space:pre;overflow-x:auto;line-height:normal;font-family:Menlo,'DejaVu Sans Mono',consolas,'Courier New',monospace\"><span style=\"font-weight: bold\">Model: \"sequential\"</span>\n",
       "</pre>\n"
      ],
      "text/plain": [
       "\u001b[1mModel: \"sequential\"\u001b[0m\n"
      ]
     },
     "metadata": {},
     "output_type": "display_data"
    },
    {
     "data": {
      "text/html": [
       "<pre style=\"white-space:pre;overflow-x:auto;line-height:normal;font-family:Menlo,'DejaVu Sans Mono',consolas,'Courier New',monospace\">┏━━━━━━━━━━━━━━━━━━━━━━━━━━━━━━━━━┳━━━━━━━━━━━━━━━━━━━━━━━━┳━━━━━━━━━━━━━━━┓\n",
       "┃<span style=\"font-weight: bold\"> Layer (type)                    </span>┃<span style=\"font-weight: bold\"> Output Shape           </span>┃<span style=\"font-weight: bold\">       Param # </span>┃\n",
       "┡━━━━━━━━━━━━━━━━━━━━━━━━━━━━━━━━━╇━━━━━━━━━━━━━━━━━━━━━━━━╇━━━━━━━━━━━━━━━┩\n",
       "│ gru (<span style=\"color: #0087ff; text-decoration-color: #0087ff\">GRU</span>)                       │ (<span style=\"color: #00d7ff; text-decoration-color: #00d7ff\">None</span>, <span style=\"color: #00af00; text-decoration-color: #00af00\">5</span>)              │           <span style=\"color: #00af00; text-decoration-color: #00af00\">120</span> │\n",
       "├─────────────────────────────────┼────────────────────────┼───────────────┤\n",
       "│ dense (<span style=\"color: #0087ff; text-decoration-color: #0087ff\">Dense</span>)                   │ (<span style=\"color: #00d7ff; text-decoration-color: #00d7ff\">None</span>, <span style=\"color: #00af00; text-decoration-color: #00af00\">100</span>)            │           <span style=\"color: #00af00; text-decoration-color: #00af00\">600</span> │\n",
       "├─────────────────────────────────┼────────────────────────┼───────────────┤\n",
       "│ re_lu (<span style=\"color: #0087ff; text-decoration-color: #0087ff\">ReLU</span>)                    │ (<span style=\"color: #00d7ff; text-decoration-color: #00d7ff\">None</span>, <span style=\"color: #00af00; text-decoration-color: #00af00\">100</span>)            │             <span style=\"color: #00af00; text-decoration-color: #00af00\">0</span> │\n",
       "├─────────────────────────────────┼────────────────────────┼───────────────┤\n",
       "│ dense_1 (<span style=\"color: #0087ff; text-decoration-color: #0087ff\">Dense</span>)                 │ (<span style=\"color: #00d7ff; text-decoration-color: #00d7ff\">None</span>, <span style=\"color: #00af00; text-decoration-color: #00af00\">100</span>)            │        <span style=\"color: #00af00; text-decoration-color: #00af00\">10,100</span> │\n",
       "├─────────────────────────────────┼────────────────────────┼───────────────┤\n",
       "│ re_lu_1 (<span style=\"color: #0087ff; text-decoration-color: #0087ff\">ReLU</span>)                  │ (<span style=\"color: #00d7ff; text-decoration-color: #00d7ff\">None</span>, <span style=\"color: #00af00; text-decoration-color: #00af00\">100</span>)            │             <span style=\"color: #00af00; text-decoration-color: #00af00\">0</span> │\n",
       "├─────────────────────────────────┼────────────────────────┼───────────────┤\n",
       "│ dense_2 (<span style=\"color: #0087ff; text-decoration-color: #0087ff\">Dense</span>)                 │ (<span style=\"color: #00d7ff; text-decoration-color: #00d7ff\">None</span>, <span style=\"color: #00af00; text-decoration-color: #00af00\">100</span>)            │        <span style=\"color: #00af00; text-decoration-color: #00af00\">10,100</span> │\n",
       "├─────────────────────────────────┼────────────────────────┼───────────────┤\n",
       "│ re_lu_2 (<span style=\"color: #0087ff; text-decoration-color: #0087ff\">ReLU</span>)                  │ (<span style=\"color: #00d7ff; text-decoration-color: #00d7ff\">None</span>, <span style=\"color: #00af00; text-decoration-color: #00af00\">100</span>)            │             <span style=\"color: #00af00; text-decoration-color: #00af00\">0</span> │\n",
       "├─────────────────────────────────┼────────────────────────┼───────────────┤\n",
       "│ dense_3 (<span style=\"color: #0087ff; text-decoration-color: #0087ff\">Dense</span>)                 │ (<span style=\"color: #00d7ff; text-decoration-color: #00d7ff\">None</span>, <span style=\"color: #00af00; text-decoration-color: #00af00\">100</span>)            │        <span style=\"color: #00af00; text-decoration-color: #00af00\">10,100</span> │\n",
       "├─────────────────────────────────┼────────────────────────┼───────────────┤\n",
       "│ re_lu_3 (<span style=\"color: #0087ff; text-decoration-color: #0087ff\">ReLU</span>)                  │ (<span style=\"color: #00d7ff; text-decoration-color: #00d7ff\">None</span>, <span style=\"color: #00af00; text-decoration-color: #00af00\">100</span>)            │             <span style=\"color: #00af00; text-decoration-color: #00af00\">0</span> │\n",
       "├─────────────────────────────────┼────────────────────────┼───────────────┤\n",
       "│ dense_4 (<span style=\"color: #0087ff; text-decoration-color: #0087ff\">Dense</span>)                 │ (<span style=\"color: #00d7ff; text-decoration-color: #00d7ff\">None</span>, <span style=\"color: #00af00; text-decoration-color: #00af00\">100</span>)            │        <span style=\"color: #00af00; text-decoration-color: #00af00\">10,100</span> │\n",
       "├─────────────────────────────────┼────────────────────────┼───────────────┤\n",
       "│ re_lu_4 (<span style=\"color: #0087ff; text-decoration-color: #0087ff\">ReLU</span>)                  │ (<span style=\"color: #00d7ff; text-decoration-color: #00d7ff\">None</span>, <span style=\"color: #00af00; text-decoration-color: #00af00\">100</span>)            │             <span style=\"color: #00af00; text-decoration-color: #00af00\">0</span> │\n",
       "├─────────────────────────────────┼────────────────────────┼───────────────┤\n",
       "│ dense_5 (<span style=\"color: #0087ff; text-decoration-color: #0087ff\">Dense</span>)                 │ (<span style=\"color: #00d7ff; text-decoration-color: #00d7ff\">None</span>, <span style=\"color: #00af00; text-decoration-color: #00af00\">100</span>)            │        <span style=\"color: #00af00; text-decoration-color: #00af00\">10,100</span> │\n",
       "├─────────────────────────────────┼────────────────────────┼───────────────┤\n",
       "│ re_lu_5 (<span style=\"color: #0087ff; text-decoration-color: #0087ff\">ReLU</span>)                  │ (<span style=\"color: #00d7ff; text-decoration-color: #00d7ff\">None</span>, <span style=\"color: #00af00; text-decoration-color: #00af00\">100</span>)            │             <span style=\"color: #00af00; text-decoration-color: #00af00\">0</span> │\n",
       "├─────────────────────────────────┼────────────────────────┼───────────────┤\n",
       "│ dense_6 (<span style=\"color: #0087ff; text-decoration-color: #0087ff\">Dense</span>)                 │ (<span style=\"color: #00d7ff; text-decoration-color: #00d7ff\">None</span>, <span style=\"color: #00af00; text-decoration-color: #00af00\">100</span>)            │        <span style=\"color: #00af00; text-decoration-color: #00af00\">10,100</span> │\n",
       "├─────────────────────────────────┼────────────────────────┼───────────────┤\n",
       "│ re_lu_6 (<span style=\"color: #0087ff; text-decoration-color: #0087ff\">ReLU</span>)                  │ (<span style=\"color: #00d7ff; text-decoration-color: #00d7ff\">None</span>, <span style=\"color: #00af00; text-decoration-color: #00af00\">100</span>)            │             <span style=\"color: #00af00; text-decoration-color: #00af00\">0</span> │\n",
       "├─────────────────────────────────┼────────────────────────┼───────────────┤\n",
       "│ dense_7 (<span style=\"color: #0087ff; text-decoration-color: #0087ff\">Dense</span>)                 │ (<span style=\"color: #00d7ff; text-decoration-color: #00d7ff\">None</span>, <span style=\"color: #00af00; text-decoration-color: #00af00\">100</span>)            │        <span style=\"color: #00af00; text-decoration-color: #00af00\">10,100</span> │\n",
       "├─────────────────────────────────┼────────────────────────┼───────────────┤\n",
       "│ re_lu_7 (<span style=\"color: #0087ff; text-decoration-color: #0087ff\">ReLU</span>)                  │ (<span style=\"color: #00d7ff; text-decoration-color: #00d7ff\">None</span>, <span style=\"color: #00af00; text-decoration-color: #00af00\">100</span>)            │             <span style=\"color: #00af00; text-decoration-color: #00af00\">0</span> │\n",
       "├─────────────────────────────────┼────────────────────────┼───────────────┤\n",
       "│ dense_8 (<span style=\"color: #0087ff; text-decoration-color: #0087ff\">Dense</span>)                 │ (<span style=\"color: #00d7ff; text-decoration-color: #00d7ff\">None</span>, <span style=\"color: #00af00; text-decoration-color: #00af00\">100</span>)            │        <span style=\"color: #00af00; text-decoration-color: #00af00\">10,100</span> │\n",
       "├─────────────────────────────────┼────────────────────────┼───────────────┤\n",
       "│ re_lu_8 (<span style=\"color: #0087ff; text-decoration-color: #0087ff\">ReLU</span>)                  │ (<span style=\"color: #00d7ff; text-decoration-color: #00d7ff\">None</span>, <span style=\"color: #00af00; text-decoration-color: #00af00\">100</span>)            │             <span style=\"color: #00af00; text-decoration-color: #00af00\">0</span> │\n",
       "├─────────────────────────────────┼────────────────────────┼───────────────┤\n",
       "│ dense_9 (<span style=\"color: #0087ff; text-decoration-color: #0087ff\">Dense</span>)                 │ (<span style=\"color: #00d7ff; text-decoration-color: #00d7ff\">None</span>, <span style=\"color: #00af00; text-decoration-color: #00af00\">100</span>)            │        <span style=\"color: #00af00; text-decoration-color: #00af00\">10,100</span> │\n",
       "├─────────────────────────────────┼────────────────────────┼───────────────┤\n",
       "│ re_lu_9 (<span style=\"color: #0087ff; text-decoration-color: #0087ff\">ReLU</span>)                  │ (<span style=\"color: #00d7ff; text-decoration-color: #00d7ff\">None</span>, <span style=\"color: #00af00; text-decoration-color: #00af00\">100</span>)            │             <span style=\"color: #00af00; text-decoration-color: #00af00\">0</span> │\n",
       "├─────────────────────────────────┼────────────────────────┼───────────────┤\n",
       "│ dense_10 (<span style=\"color: #0087ff; text-decoration-color: #0087ff\">Dense</span>)                │ (<span style=\"color: #00d7ff; text-decoration-color: #00d7ff\">None</span>, <span style=\"color: #00af00; text-decoration-color: #00af00\">100</span>)            │        <span style=\"color: #00af00; text-decoration-color: #00af00\">10,100</span> │\n",
       "├─────────────────────────────────┼────────────────────────┼───────────────┤\n",
       "│ re_lu_10 (<span style=\"color: #0087ff; text-decoration-color: #0087ff\">ReLU</span>)                 │ (<span style=\"color: #00d7ff; text-decoration-color: #00d7ff\">None</span>, <span style=\"color: #00af00; text-decoration-color: #00af00\">100</span>)            │             <span style=\"color: #00af00; text-decoration-color: #00af00\">0</span> │\n",
       "├─────────────────────────────────┼────────────────────────┼───────────────┤\n",
       "│ dense_11 (<span style=\"color: #0087ff; text-decoration-color: #0087ff\">Dense</span>)                │ (<span style=\"color: #00d7ff; text-decoration-color: #00d7ff\">None</span>, <span style=\"color: #00af00; text-decoration-color: #00af00\">100</span>)            │        <span style=\"color: #00af00; text-decoration-color: #00af00\">10,100</span> │\n",
       "├─────────────────────────────────┼────────────────────────┼───────────────┤\n",
       "│ re_lu_11 (<span style=\"color: #0087ff; text-decoration-color: #0087ff\">ReLU</span>)                 │ (<span style=\"color: #00d7ff; text-decoration-color: #00d7ff\">None</span>, <span style=\"color: #00af00; text-decoration-color: #00af00\">100</span>)            │             <span style=\"color: #00af00; text-decoration-color: #00af00\">0</span> │\n",
       "├─────────────────────────────────┼────────────────────────┼───────────────┤\n",
       "│ dense_12 (<span style=\"color: #0087ff; text-decoration-color: #0087ff\">Dense</span>)                │ (<span style=\"color: #00d7ff; text-decoration-color: #00d7ff\">None</span>, <span style=\"color: #00af00; text-decoration-color: #00af00\">100</span>)            │        <span style=\"color: #00af00; text-decoration-color: #00af00\">10,100</span> │\n",
       "└─────────────────────────────────┴────────────────────────┴───────────────┘\n",
       "</pre>\n"
      ],
      "text/plain": [
       "┏━━━━━━━━━━━━━━━━━━━━━━━━━━━━━━━━━┳━━━━━━━━━━━━━━━━━━━━━━━━┳━━━━━━━━━━━━━━━┓\n",
       "┃\u001b[1m \u001b[0m\u001b[1mLayer (type)                   \u001b[0m\u001b[1m \u001b[0m┃\u001b[1m \u001b[0m\u001b[1mOutput Shape          \u001b[0m\u001b[1m \u001b[0m┃\u001b[1m \u001b[0m\u001b[1m      Param #\u001b[0m\u001b[1m \u001b[0m┃\n",
       "┡━━━━━━━━━━━━━━━━━━━━━━━━━━━━━━━━━╇━━━━━━━━━━━━━━━━━━━━━━━━╇━━━━━━━━━━━━━━━┩\n",
       "│ gru (\u001b[38;5;33mGRU\u001b[0m)                       │ (\u001b[38;5;45mNone\u001b[0m, \u001b[38;5;34m5\u001b[0m)              │           \u001b[38;5;34m120\u001b[0m │\n",
       "├─────────────────────────────────┼────────────────────────┼───────────────┤\n",
       "│ dense (\u001b[38;5;33mDense\u001b[0m)                   │ (\u001b[38;5;45mNone\u001b[0m, \u001b[38;5;34m100\u001b[0m)            │           \u001b[38;5;34m600\u001b[0m │\n",
       "├─────────────────────────────────┼────────────────────────┼───────────────┤\n",
       "│ re_lu (\u001b[38;5;33mReLU\u001b[0m)                    │ (\u001b[38;5;45mNone\u001b[0m, \u001b[38;5;34m100\u001b[0m)            │             \u001b[38;5;34m0\u001b[0m │\n",
       "├─────────────────────────────────┼────────────────────────┼───────────────┤\n",
       "│ dense_1 (\u001b[38;5;33mDense\u001b[0m)                 │ (\u001b[38;5;45mNone\u001b[0m, \u001b[38;5;34m100\u001b[0m)            │        \u001b[38;5;34m10,100\u001b[0m │\n",
       "├─────────────────────────────────┼────────────────────────┼───────────────┤\n",
       "│ re_lu_1 (\u001b[38;5;33mReLU\u001b[0m)                  │ (\u001b[38;5;45mNone\u001b[0m, \u001b[38;5;34m100\u001b[0m)            │             \u001b[38;5;34m0\u001b[0m │\n",
       "├─────────────────────────────────┼────────────────────────┼───────────────┤\n",
       "│ dense_2 (\u001b[38;5;33mDense\u001b[0m)                 │ (\u001b[38;5;45mNone\u001b[0m, \u001b[38;5;34m100\u001b[0m)            │        \u001b[38;5;34m10,100\u001b[0m │\n",
       "├─────────────────────────────────┼────────────────────────┼───────────────┤\n",
       "│ re_lu_2 (\u001b[38;5;33mReLU\u001b[0m)                  │ (\u001b[38;5;45mNone\u001b[0m, \u001b[38;5;34m100\u001b[0m)            │             \u001b[38;5;34m0\u001b[0m │\n",
       "├─────────────────────────────────┼────────────────────────┼───────────────┤\n",
       "│ dense_3 (\u001b[38;5;33mDense\u001b[0m)                 │ (\u001b[38;5;45mNone\u001b[0m, \u001b[38;5;34m100\u001b[0m)            │        \u001b[38;5;34m10,100\u001b[0m │\n",
       "├─────────────────────────────────┼────────────────────────┼───────────────┤\n",
       "│ re_lu_3 (\u001b[38;5;33mReLU\u001b[0m)                  │ (\u001b[38;5;45mNone\u001b[0m, \u001b[38;5;34m100\u001b[0m)            │             \u001b[38;5;34m0\u001b[0m │\n",
       "├─────────────────────────────────┼────────────────────────┼───────────────┤\n",
       "│ dense_4 (\u001b[38;5;33mDense\u001b[0m)                 │ (\u001b[38;5;45mNone\u001b[0m, \u001b[38;5;34m100\u001b[0m)            │        \u001b[38;5;34m10,100\u001b[0m │\n",
       "├─────────────────────────────────┼────────────────────────┼───────────────┤\n",
       "│ re_lu_4 (\u001b[38;5;33mReLU\u001b[0m)                  │ (\u001b[38;5;45mNone\u001b[0m, \u001b[38;5;34m100\u001b[0m)            │             \u001b[38;5;34m0\u001b[0m │\n",
       "├─────────────────────────────────┼────────────────────────┼───────────────┤\n",
       "│ dense_5 (\u001b[38;5;33mDense\u001b[0m)                 │ (\u001b[38;5;45mNone\u001b[0m, \u001b[38;5;34m100\u001b[0m)            │        \u001b[38;5;34m10,100\u001b[0m │\n",
       "├─────────────────────────────────┼────────────────────────┼───────────────┤\n",
       "│ re_lu_5 (\u001b[38;5;33mReLU\u001b[0m)                  │ (\u001b[38;5;45mNone\u001b[0m, \u001b[38;5;34m100\u001b[0m)            │             \u001b[38;5;34m0\u001b[0m │\n",
       "├─────────────────────────────────┼────────────────────────┼───────────────┤\n",
       "│ dense_6 (\u001b[38;5;33mDense\u001b[0m)                 │ (\u001b[38;5;45mNone\u001b[0m, \u001b[38;5;34m100\u001b[0m)            │        \u001b[38;5;34m10,100\u001b[0m │\n",
       "├─────────────────────────────────┼────────────────────────┼───────────────┤\n",
       "│ re_lu_6 (\u001b[38;5;33mReLU\u001b[0m)                  │ (\u001b[38;5;45mNone\u001b[0m, \u001b[38;5;34m100\u001b[0m)            │             \u001b[38;5;34m0\u001b[0m │\n",
       "├─────────────────────────────────┼────────────────────────┼───────────────┤\n",
       "│ dense_7 (\u001b[38;5;33mDense\u001b[0m)                 │ (\u001b[38;5;45mNone\u001b[0m, \u001b[38;5;34m100\u001b[0m)            │        \u001b[38;5;34m10,100\u001b[0m │\n",
       "├─────────────────────────────────┼────────────────────────┼───────────────┤\n",
       "│ re_lu_7 (\u001b[38;5;33mReLU\u001b[0m)                  │ (\u001b[38;5;45mNone\u001b[0m, \u001b[38;5;34m100\u001b[0m)            │             \u001b[38;5;34m0\u001b[0m │\n",
       "├─────────────────────────────────┼────────────────────────┼───────────────┤\n",
       "│ dense_8 (\u001b[38;5;33mDense\u001b[0m)                 │ (\u001b[38;5;45mNone\u001b[0m, \u001b[38;5;34m100\u001b[0m)            │        \u001b[38;5;34m10,100\u001b[0m │\n",
       "├─────────────────────────────────┼────────────────────────┼───────────────┤\n",
       "│ re_lu_8 (\u001b[38;5;33mReLU\u001b[0m)                  │ (\u001b[38;5;45mNone\u001b[0m, \u001b[38;5;34m100\u001b[0m)            │             \u001b[38;5;34m0\u001b[0m │\n",
       "├─────────────────────────────────┼────────────────────────┼───────────────┤\n",
       "│ dense_9 (\u001b[38;5;33mDense\u001b[0m)                 │ (\u001b[38;5;45mNone\u001b[0m, \u001b[38;5;34m100\u001b[0m)            │        \u001b[38;5;34m10,100\u001b[0m │\n",
       "├─────────────────────────────────┼────────────────────────┼───────────────┤\n",
       "│ re_lu_9 (\u001b[38;5;33mReLU\u001b[0m)                  │ (\u001b[38;5;45mNone\u001b[0m, \u001b[38;5;34m100\u001b[0m)            │             \u001b[38;5;34m0\u001b[0m │\n",
       "├─────────────────────────────────┼────────────────────────┼───────────────┤\n",
       "│ dense_10 (\u001b[38;5;33mDense\u001b[0m)                │ (\u001b[38;5;45mNone\u001b[0m, \u001b[38;5;34m100\u001b[0m)            │        \u001b[38;5;34m10,100\u001b[0m │\n",
       "├─────────────────────────────────┼────────────────────────┼───────────────┤\n",
       "│ re_lu_10 (\u001b[38;5;33mReLU\u001b[0m)                 │ (\u001b[38;5;45mNone\u001b[0m, \u001b[38;5;34m100\u001b[0m)            │             \u001b[38;5;34m0\u001b[0m │\n",
       "├─────────────────────────────────┼────────────────────────┼───────────────┤\n",
       "│ dense_11 (\u001b[38;5;33mDense\u001b[0m)                │ (\u001b[38;5;45mNone\u001b[0m, \u001b[38;5;34m100\u001b[0m)            │        \u001b[38;5;34m10,100\u001b[0m │\n",
       "├─────────────────────────────────┼────────────────────────┼───────────────┤\n",
       "│ re_lu_11 (\u001b[38;5;33mReLU\u001b[0m)                 │ (\u001b[38;5;45mNone\u001b[0m, \u001b[38;5;34m100\u001b[0m)            │             \u001b[38;5;34m0\u001b[0m │\n",
       "├─────────────────────────────────┼────────────────────────┼───────────────┤\n",
       "│ dense_12 (\u001b[38;5;33mDense\u001b[0m)                │ (\u001b[38;5;45mNone\u001b[0m, \u001b[38;5;34m100\u001b[0m)            │        \u001b[38;5;34m10,100\u001b[0m │\n",
       "└─────────────────────────────────┴────────────────────────┴───────────────┘\n"
      ]
     },
     "metadata": {},
     "output_type": "display_data"
    },
    {
     "data": {
      "text/html": [
       "<pre style=\"white-space:pre;overflow-x:auto;line-height:normal;font-family:Menlo,'DejaVu Sans Mono',consolas,'Courier New',monospace\"><span style=\"font-weight: bold\"> Total params: </span><span style=\"color: #00af00; text-decoration-color: #00af00\">121,920</span> (476.25 KB)\n",
       "</pre>\n"
      ],
      "text/plain": [
       "\u001b[1m Total params: \u001b[0m\u001b[38;5;34m121,920\u001b[0m (476.25 KB)\n"
      ]
     },
     "metadata": {},
     "output_type": "display_data"
    },
    {
     "data": {
      "text/html": [
       "<pre style=\"white-space:pre;overflow-x:auto;line-height:normal;font-family:Menlo,'DejaVu Sans Mono',consolas,'Courier New',monospace\"><span style=\"font-weight: bold\"> Trainable params: </span><span style=\"color: #00af00; text-decoration-color: #00af00\">121,920</span> (476.25 KB)\n",
       "</pre>\n"
      ],
      "text/plain": [
       "\u001b[1m Trainable params: \u001b[0m\u001b[38;5;34m121,920\u001b[0m (476.25 KB)\n"
      ]
     },
     "metadata": {},
     "output_type": "display_data"
    },
    {
     "data": {
      "text/html": [
       "<pre style=\"white-space:pre;overflow-x:auto;line-height:normal;font-family:Menlo,'DejaVu Sans Mono',consolas,'Courier New',monospace\"><span style=\"font-weight: bold\"> Non-trainable params: </span><span style=\"color: #00af00; text-decoration-color: #00af00\">0</span> (0.00 B)\n",
       "</pre>\n"
      ],
      "text/plain": [
       "\u001b[1m Non-trainable params: \u001b[0m\u001b[38;5;34m0\u001b[0m (0.00 B)\n"
      ]
     },
     "metadata": {},
     "output_type": "display_data"
    }
   ],
   "source": [
    "model = Sequential()\n",
    "model.add(GRU(LATENT_DIM, input_shape=(T, 1)))\n",
    "model.add(Dense(HORIZON))\n",
    "model.add(ReLU())\n",
    "model.add(Dense(HORIZON))\n",
    "model.add(ReLU())\n",
    "model.add(Dense(HORIZON))\n",
    "model.add(ReLU())\n",
    "model.add(Dense(HORIZON))\n",
    "model.add(ReLU())\n",
    "model.add(Dense(HORIZON))\n",
    "model.add(ReLU())\n",
    "model.add(Dense(HORIZON))\n",
    "model.add(ReLU())\n",
    "model.add(Dense(HORIZON))\n",
    "model.add(ReLU())\n",
    "model.add(Dense(HORIZON))\n",
    "model.add(ReLU())\n",
    "model.add(Dense(HORIZON))\n",
    "model.add(ReLU())\n",
    "model.add(Dense(HORIZON))\n",
    "model.add(ReLU())\n",
    "model.add(Dense(HORIZON))\n",
    "model.add(ReLU())\n",
    "model.add(Dense(HORIZON))\n",
    "model.add(ReLU())\n",
    "model.add(Dense(HORIZON))\n",
    "model.compile(optimizer =\"Adam\", loss = \"mse\")\n",
    "model.summary()"
   ]
  },
  {
   "cell_type": "code",
   "execution_count": 21,
   "id": "ac5079f5",
   "metadata": {
    "execution": {
     "iopub.execute_input": "2024-03-23T16:56:30.533008Z",
     "iopub.status.busy": "2024-03-23T16:56:30.532218Z",
     "iopub.status.idle": "2024-03-23T16:56:30.539323Z",
     "shell.execute_reply": "2024-03-23T16:56:30.538212Z"
    },
    "papermill": {
     "duration": 0.022299,
     "end_time": "2024-03-23T16:56:30.541589",
     "exception": false,
     "start_time": "2024-03-23T16:56:30.519290",
     "status": "completed"
    },
    "tags": []
   },
   "outputs": [
    {
     "data": {
      "text/plain": [
       "(76593, 1)"
      ]
     },
     "execution_count": 21,
     "metadata": {},
     "output_type": "execute_result"
    }
   ],
   "source": [
    "X_train.shape"
   ]
  },
  {
   "cell_type": "code",
   "execution_count": 22,
   "id": "2d3d0128",
   "metadata": {
    "execution": {
     "iopub.execute_input": "2024-03-23T16:56:30.565340Z",
     "iopub.status.busy": "2024-03-23T16:56:30.564988Z",
     "iopub.status.idle": "2024-03-23T17:22:26.381571Z",
     "shell.execute_reply": "2024-03-23T17:22:26.380294Z"
    },
    "papermill": {
     "duration": 1555.831695,
     "end_time": "2024-03-23T17:22:26.384576",
     "exception": false,
     "start_time": "2024-03-23T16:56:30.552881",
     "status": "completed"
    },
    "tags": []
   },
   "outputs": [
    {
     "name": "stdout",
     "output_type": "stream",
     "text": [
      "Epoch 1/20\n",
      "\u001b[1m9575/9575\u001b[0m \u001b[32m━━━━━━━━━━━━━━━━━━━━\u001b[0m\u001b[37m\u001b[0m \u001b[1m82s\u001b[0m 8ms/step - loss: 62151.6680\n",
      "Epoch 2/20\n",
      "\u001b[1m  22/9575\u001b[0m \u001b[37m━━━━━━━━━━━━━━━━━━━━\u001b[0m \u001b[1m1:14\u001b[0m 8ms/step - loss: 1412.4255"
     ]
    },
    {
     "name": "stderr",
     "output_type": "stream",
     "text": [
      "/opt/conda/lib/python3.10/site-packages/keras/src/callbacks/early_stopping.py:156: UserWarning: Early stopping conditioned on metric `val_loss` which is not available. Available metrics are: loss\n",
      "  current = self.get_monitor_value(logs)\n"
     ]
    },
    {
     "name": "stdout",
     "output_type": "stream",
     "text": [
      "\u001b[1m9575/9575\u001b[0m \u001b[32m━━━━━━━━━━━━━━━━━━━━\u001b[0m\u001b[37m\u001b[0m \u001b[1m76s\u001b[0m 8ms/step - loss: 1531.5133\n",
      "Epoch 3/20\n",
      "\u001b[1m9575/9575\u001b[0m \u001b[32m━━━━━━━━━━━━━━━━━━━━\u001b[0m\u001b[37m\u001b[0m \u001b[1m76s\u001b[0m 8ms/step - loss: 1442.3615\n",
      "Epoch 4/20\n",
      "\u001b[1m9575/9575\u001b[0m \u001b[32m━━━━━━━━━━━━━━━━━━━━\u001b[0m\u001b[37m\u001b[0m \u001b[1m76s\u001b[0m 8ms/step - loss: 1400.2347\n",
      "Epoch 5/20\n",
      "\u001b[1m9575/9575\u001b[0m \u001b[32m━━━━━━━━━━━━━━━━━━━━\u001b[0m\u001b[37m\u001b[0m \u001b[1m76s\u001b[0m 8ms/step - loss: 1323.3781\n",
      "Epoch 6/20\n",
      "\u001b[1m9575/9575\u001b[0m \u001b[32m━━━━━━━━━━━━━━━━━━━━\u001b[0m\u001b[37m\u001b[0m \u001b[1m77s\u001b[0m 8ms/step - loss: 1246.8060\n",
      "Epoch 7/20\n",
      "\u001b[1m9575/9575\u001b[0m \u001b[32m━━━━━━━━━━━━━━━━━━━━\u001b[0m\u001b[37m\u001b[0m \u001b[1m76s\u001b[0m 8ms/step - loss: 1078.7095\n",
      "Epoch 8/20\n",
      "\u001b[1m9575/9575\u001b[0m \u001b[32m━━━━━━━━━━━━━━━━━━━━\u001b[0m\u001b[37m\u001b[0m \u001b[1m77s\u001b[0m 8ms/step - loss: 1076.9421\n",
      "Epoch 9/20\n",
      "\u001b[1m9575/9575\u001b[0m \u001b[32m━━━━━━━━━━━━━━━━━━━━\u001b[0m\u001b[37m\u001b[0m \u001b[1m77s\u001b[0m 8ms/step - loss: 1032.2057\n",
      "Epoch 10/20\n",
      "\u001b[1m9575/9575\u001b[0m \u001b[32m━━━━━━━━━━━━━━━━━━━━\u001b[0m\u001b[37m\u001b[0m \u001b[1m78s\u001b[0m 8ms/step - loss: 1003.8045\n",
      "Epoch 11/20\n",
      "\u001b[1m9575/9575\u001b[0m \u001b[32m━━━━━━━━━━━━━━━━━━━━\u001b[0m\u001b[37m\u001b[0m \u001b[1m77s\u001b[0m 8ms/step - loss: 1003.7363\n",
      "Epoch 12/20\n",
      "\u001b[1m9575/9575\u001b[0m \u001b[32m━━━━━━━━━━━━━━━━━━━━\u001b[0m\u001b[37m\u001b[0m \u001b[1m77s\u001b[0m 8ms/step - loss: 979.4336\n",
      "Epoch 13/20\n",
      "\u001b[1m9575/9575\u001b[0m \u001b[32m━━━━━━━━━━━━━━━━━━━━\u001b[0m\u001b[37m\u001b[0m \u001b[1m77s\u001b[0m 8ms/step - loss: 970.2368\n",
      "Epoch 14/20\n",
      "\u001b[1m9575/9575\u001b[0m \u001b[32m━━━━━━━━━━━━━━━━━━━━\u001b[0m\u001b[37m\u001b[0m \u001b[1m78s\u001b[0m 8ms/step - loss: 958.3962\n",
      "Epoch 15/20\n",
      "\u001b[1m9575/9575\u001b[0m \u001b[32m━━━━━━━━━━━━━━━━━━━━\u001b[0m\u001b[37m\u001b[0m \u001b[1m82s\u001b[0m 8ms/step - loss: 959.7855\n",
      "Epoch 16/20\n",
      "\u001b[1m9575/9575\u001b[0m \u001b[32m━━━━━━━━━━━━━━━━━━━━\u001b[0m\u001b[37m\u001b[0m \u001b[1m78s\u001b[0m 8ms/step - loss: 933.3167\n",
      "Epoch 17/20\n",
      "\u001b[1m9575/9575\u001b[0m \u001b[32m━━━━━━━━━━━━━━━━━━━━\u001b[0m\u001b[37m\u001b[0m \u001b[1m77s\u001b[0m 8ms/step - loss: 960.7404\n",
      "Epoch 18/20\n",
      "\u001b[1m9575/9575\u001b[0m \u001b[32m━━━━━━━━━━━━━━━━━━━━\u001b[0m\u001b[37m\u001b[0m \u001b[1m77s\u001b[0m 8ms/step - loss: 928.3719\n",
      "Epoch 19/20\n",
      "\u001b[1m9575/9575\u001b[0m \u001b[32m━━━━━━━━━━━━━━━━━━━━\u001b[0m\u001b[37m\u001b[0m \u001b[1m78s\u001b[0m 8ms/step - loss: 928.0040\n",
      "Epoch 20/20\n",
      "\u001b[1m9575/9575\u001b[0m \u001b[32m━━━━━━━━━━━━━━━━━━━━\u001b[0m\u001b[37m\u001b[0m \u001b[1m79s\u001b[0m 8ms/step - loss: 924.2914\n"
     ]
    }
   ],
   "source": [
    "GRU_EarlyStop = EarlyStopping(monitor=\"val_loss\", min_delta = 0, patience = 5)\n",
    "history = model.fit(X_train, y_train, batch_size=BATCH_SIZE, epochs= EPOCHS, callbacks= GRU_EarlyStop, verbose=1)"
   ]
  },
  {
   "cell_type": "code",
   "execution_count": 23,
   "id": "61d02c29",
   "metadata": {
    "execution": {
     "iopub.execute_input": "2024-03-23T17:22:31.773005Z",
     "iopub.status.busy": "2024-03-23T17:22:31.772152Z",
     "iopub.status.idle": "2024-03-23T17:22:32.903871Z",
     "shell.execute_reply": "2024-03-23T17:22:32.902770Z"
    },
    "papermill": {
     "duration": 3.89103,
     "end_time": "2024-03-23T17:22:32.906736",
     "exception": false,
     "start_time": "2024-03-23T17:22:29.015706",
     "status": "completed"
    },
    "tags": []
   },
   "outputs": [
    {
     "name": "stdout",
     "output_type": "stream",
     "text": [
      "\u001b[1m266/266\u001b[0m \u001b[32m━━━━━━━━━━━━━━━━━━━━\u001b[0m\u001b[37m\u001b[0m \u001b[1m1s\u001b[0m 3ms/step\n"
     ]
    },
    {
     "data": {
      "text/html": [
       "<div>\n",
       "<style scoped>\n",
       "    .dataframe tbody tr th:only-of-type {\n",
       "        vertical-align: middle;\n",
       "    }\n",
       "\n",
       "    .dataframe tbody tr th {\n",
       "        vertical-align: top;\n",
       "    }\n",
       "\n",
       "    .dataframe thead th {\n",
       "        text-align: right;\n",
       "    }\n",
       "</style>\n",
       "<table border=\"1\" class=\"dataframe\">\n",
       "  <thead>\n",
       "    <tr style=\"text-align: right;\">\n",
       "      <th></th>\n",
       "      <th>0</th>\n",
       "      <th>1</th>\n",
       "      <th>2</th>\n",
       "      <th>3</th>\n",
       "      <th>4</th>\n",
       "      <th>5</th>\n",
       "      <th>6</th>\n",
       "      <th>7</th>\n",
       "      <th>8</th>\n",
       "      <th>9</th>\n",
       "      <th>...</th>\n",
       "      <th>8501</th>\n",
       "      <th>8502</th>\n",
       "      <th>8503</th>\n",
       "      <th>8504</th>\n",
       "      <th>8505</th>\n",
       "      <th>8506</th>\n",
       "      <th>8507</th>\n",
       "      <th>8508</th>\n",
       "      <th>8509</th>\n",
       "      <th>8510</th>\n",
       "    </tr>\n",
       "  </thead>\n",
       "  <tbody>\n",
       "    <tr>\n",
       "      <th>0</th>\n",
       "      <td>1620.231323</td>\n",
       "      <td>1620.231323</td>\n",
       "      <td>1620.231323</td>\n",
       "      <td>1620.231323</td>\n",
       "      <td>1620.231323</td>\n",
       "      <td>1620.231323</td>\n",
       "      <td>1620.231323</td>\n",
       "      <td>1620.231323</td>\n",
       "      <td>1620.231323</td>\n",
       "      <td>1620.231323</td>\n",
       "      <td>...</td>\n",
       "      <td>1620.231323</td>\n",
       "      <td>1620.231323</td>\n",
       "      <td>1620.231323</td>\n",
       "      <td>1620.231323</td>\n",
       "      <td>1620.231323</td>\n",
       "      <td>1620.231323</td>\n",
       "      <td>1620.231323</td>\n",
       "      <td>1620.231323</td>\n",
       "      <td>1620.231323</td>\n",
       "      <td>1620.231323</td>\n",
       "    </tr>\n",
       "    <tr>\n",
       "      <th>1</th>\n",
       "      <td>1620.410889</td>\n",
       "      <td>1620.410889</td>\n",
       "      <td>1620.410889</td>\n",
       "      <td>1620.410889</td>\n",
       "      <td>1620.410889</td>\n",
       "      <td>1620.410889</td>\n",
       "      <td>1620.410889</td>\n",
       "      <td>1620.410889</td>\n",
       "      <td>1620.410889</td>\n",
       "      <td>1620.410889</td>\n",
       "      <td>...</td>\n",
       "      <td>1620.410889</td>\n",
       "      <td>1620.410889</td>\n",
       "      <td>1620.410889</td>\n",
       "      <td>1620.410889</td>\n",
       "      <td>1620.410889</td>\n",
       "      <td>1620.410889</td>\n",
       "      <td>1620.410889</td>\n",
       "      <td>1620.410889</td>\n",
       "      <td>1620.410889</td>\n",
       "      <td>1620.410889</td>\n",
       "    </tr>\n",
       "    <tr>\n",
       "      <th>2</th>\n",
       "      <td>1620.232666</td>\n",
       "      <td>1620.232666</td>\n",
       "      <td>1620.232666</td>\n",
       "      <td>1620.232666</td>\n",
       "      <td>1620.232666</td>\n",
       "      <td>1620.232666</td>\n",
       "      <td>1620.232666</td>\n",
       "      <td>1620.232666</td>\n",
       "      <td>1620.232666</td>\n",
       "      <td>1620.232666</td>\n",
       "      <td>...</td>\n",
       "      <td>1620.232666</td>\n",
       "      <td>1620.232666</td>\n",
       "      <td>1620.232666</td>\n",
       "      <td>1620.232666</td>\n",
       "      <td>1620.232666</td>\n",
       "      <td>1620.232666</td>\n",
       "      <td>1620.232666</td>\n",
       "      <td>1620.232666</td>\n",
       "      <td>1620.232666</td>\n",
       "      <td>1620.232666</td>\n",
       "    </tr>\n",
       "    <tr>\n",
       "      <th>3</th>\n",
       "      <td>1620.050537</td>\n",
       "      <td>1620.050537</td>\n",
       "      <td>1620.050537</td>\n",
       "      <td>1620.050537</td>\n",
       "      <td>1620.050537</td>\n",
       "      <td>1620.050537</td>\n",
       "      <td>1620.050537</td>\n",
       "      <td>1620.050537</td>\n",
       "      <td>1620.050537</td>\n",
       "      <td>1620.050537</td>\n",
       "      <td>...</td>\n",
       "      <td>1620.050537</td>\n",
       "      <td>1620.050537</td>\n",
       "      <td>1620.050537</td>\n",
       "      <td>1620.050537</td>\n",
       "      <td>1620.050537</td>\n",
       "      <td>1620.050537</td>\n",
       "      <td>1620.050537</td>\n",
       "      <td>1620.050537</td>\n",
       "      <td>1620.050537</td>\n",
       "      <td>1620.050537</td>\n",
       "    </tr>\n",
       "    <tr>\n",
       "      <th>4</th>\n",
       "      <td>1620.299072</td>\n",
       "      <td>1620.299072</td>\n",
       "      <td>1620.299072</td>\n",
       "      <td>1620.299072</td>\n",
       "      <td>1620.299072</td>\n",
       "      <td>1620.299072</td>\n",
       "      <td>1620.299072</td>\n",
       "      <td>1620.299072</td>\n",
       "      <td>1620.299072</td>\n",
       "      <td>1620.299072</td>\n",
       "      <td>...</td>\n",
       "      <td>1620.299072</td>\n",
       "      <td>1620.299072</td>\n",
       "      <td>1620.299072</td>\n",
       "      <td>1620.299072</td>\n",
       "      <td>1620.299072</td>\n",
       "      <td>1620.299072</td>\n",
       "      <td>1620.299072</td>\n",
       "      <td>1620.299072</td>\n",
       "      <td>1620.299072</td>\n",
       "      <td>1620.299072</td>\n",
       "    </tr>\n",
       "    <tr>\n",
       "      <th>...</th>\n",
       "      <td>...</td>\n",
       "      <td>...</td>\n",
       "      <td>...</td>\n",
       "      <td>...</td>\n",
       "      <td>...</td>\n",
       "      <td>...</td>\n",
       "      <td>...</td>\n",
       "      <td>...</td>\n",
       "      <td>...</td>\n",
       "      <td>...</td>\n",
       "      <td>...</td>\n",
       "      <td>...</td>\n",
       "      <td>...</td>\n",
       "      <td>...</td>\n",
       "      <td>...</td>\n",
       "      <td>...</td>\n",
       "      <td>...</td>\n",
       "      <td>...</td>\n",
       "      <td>...</td>\n",
       "      <td>...</td>\n",
       "      <td>...</td>\n",
       "    </tr>\n",
       "    <tr>\n",
       "      <th>95</th>\n",
       "      <td>1620.208130</td>\n",
       "      <td>1620.208130</td>\n",
       "      <td>1620.208130</td>\n",
       "      <td>1620.208130</td>\n",
       "      <td>1620.208130</td>\n",
       "      <td>1620.208130</td>\n",
       "      <td>1620.208130</td>\n",
       "      <td>1620.208130</td>\n",
       "      <td>1620.208130</td>\n",
       "      <td>1620.208130</td>\n",
       "      <td>...</td>\n",
       "      <td>1620.208130</td>\n",
       "      <td>1620.208130</td>\n",
       "      <td>1620.208130</td>\n",
       "      <td>1620.208130</td>\n",
       "      <td>1620.208130</td>\n",
       "      <td>1620.208130</td>\n",
       "      <td>1620.208130</td>\n",
       "      <td>1620.208130</td>\n",
       "      <td>1620.208130</td>\n",
       "      <td>1620.208130</td>\n",
       "    </tr>\n",
       "    <tr>\n",
       "      <th>96</th>\n",
       "      <td>1620.481934</td>\n",
       "      <td>1620.481934</td>\n",
       "      <td>1620.481934</td>\n",
       "      <td>1620.481934</td>\n",
       "      <td>1620.481934</td>\n",
       "      <td>1620.481934</td>\n",
       "      <td>1620.481934</td>\n",
       "      <td>1620.481934</td>\n",
       "      <td>1620.481934</td>\n",
       "      <td>1620.481934</td>\n",
       "      <td>...</td>\n",
       "      <td>1620.481934</td>\n",
       "      <td>1620.481934</td>\n",
       "      <td>1620.481934</td>\n",
       "      <td>1620.481934</td>\n",
       "      <td>1620.481934</td>\n",
       "      <td>1620.481934</td>\n",
       "      <td>1620.481934</td>\n",
       "      <td>1620.481934</td>\n",
       "      <td>1620.481934</td>\n",
       "      <td>1620.481934</td>\n",
       "    </tr>\n",
       "    <tr>\n",
       "      <th>97</th>\n",
       "      <td>1620.258179</td>\n",
       "      <td>1620.258179</td>\n",
       "      <td>1620.258179</td>\n",
       "      <td>1620.258179</td>\n",
       "      <td>1620.258179</td>\n",
       "      <td>1620.258179</td>\n",
       "      <td>1620.258179</td>\n",
       "      <td>1620.258179</td>\n",
       "      <td>1620.258179</td>\n",
       "      <td>1620.258179</td>\n",
       "      <td>...</td>\n",
       "      <td>1620.258179</td>\n",
       "      <td>1620.258179</td>\n",
       "      <td>1620.258179</td>\n",
       "      <td>1620.258179</td>\n",
       "      <td>1620.258179</td>\n",
       "      <td>1620.258179</td>\n",
       "      <td>1620.258179</td>\n",
       "      <td>1620.258179</td>\n",
       "      <td>1620.258179</td>\n",
       "      <td>1620.258179</td>\n",
       "    </tr>\n",
       "    <tr>\n",
       "      <th>98</th>\n",
       "      <td>1620.432495</td>\n",
       "      <td>1620.432495</td>\n",
       "      <td>1620.432495</td>\n",
       "      <td>1620.432495</td>\n",
       "      <td>1620.432495</td>\n",
       "      <td>1620.432495</td>\n",
       "      <td>1620.432495</td>\n",
       "      <td>1620.432495</td>\n",
       "      <td>1620.432495</td>\n",
       "      <td>1620.432495</td>\n",
       "      <td>...</td>\n",
       "      <td>1620.432495</td>\n",
       "      <td>1620.432495</td>\n",
       "      <td>1620.432495</td>\n",
       "      <td>1620.432495</td>\n",
       "      <td>1620.432495</td>\n",
       "      <td>1620.432495</td>\n",
       "      <td>1620.432495</td>\n",
       "      <td>1620.432495</td>\n",
       "      <td>1620.432495</td>\n",
       "      <td>1620.432495</td>\n",
       "    </tr>\n",
       "    <tr>\n",
       "      <th>99</th>\n",
       "      <td>1620.313843</td>\n",
       "      <td>1620.313843</td>\n",
       "      <td>1620.313843</td>\n",
       "      <td>1620.313843</td>\n",
       "      <td>1620.313843</td>\n",
       "      <td>1620.313843</td>\n",
       "      <td>1620.313843</td>\n",
       "      <td>1620.313843</td>\n",
       "      <td>1620.313843</td>\n",
       "      <td>1620.313843</td>\n",
       "      <td>...</td>\n",
       "      <td>1620.313843</td>\n",
       "      <td>1620.313843</td>\n",
       "      <td>1620.313843</td>\n",
       "      <td>1620.313843</td>\n",
       "      <td>1620.313843</td>\n",
       "      <td>1620.313843</td>\n",
       "      <td>1620.313843</td>\n",
       "      <td>1620.313843</td>\n",
       "      <td>1620.313843</td>\n",
       "      <td>1620.313843</td>\n",
       "    </tr>\n",
       "  </tbody>\n",
       "</table>\n",
       "<p>100 rows × 8511 columns</p>\n",
       "</div>"
      ],
      "text/plain": [
       "           0            1            2            3            4     \\\n",
       "0   1620.231323  1620.231323  1620.231323  1620.231323  1620.231323   \n",
       "1   1620.410889  1620.410889  1620.410889  1620.410889  1620.410889   \n",
       "2   1620.232666  1620.232666  1620.232666  1620.232666  1620.232666   \n",
       "3   1620.050537  1620.050537  1620.050537  1620.050537  1620.050537   \n",
       "4   1620.299072  1620.299072  1620.299072  1620.299072  1620.299072   \n",
       "..          ...          ...          ...          ...          ...   \n",
       "95  1620.208130  1620.208130  1620.208130  1620.208130  1620.208130   \n",
       "96  1620.481934  1620.481934  1620.481934  1620.481934  1620.481934   \n",
       "97  1620.258179  1620.258179  1620.258179  1620.258179  1620.258179   \n",
       "98  1620.432495  1620.432495  1620.432495  1620.432495  1620.432495   \n",
       "99  1620.313843  1620.313843  1620.313843  1620.313843  1620.313843   \n",
       "\n",
       "           5            6            7            8            9     ...  \\\n",
       "0   1620.231323  1620.231323  1620.231323  1620.231323  1620.231323  ...   \n",
       "1   1620.410889  1620.410889  1620.410889  1620.410889  1620.410889  ...   \n",
       "2   1620.232666  1620.232666  1620.232666  1620.232666  1620.232666  ...   \n",
       "3   1620.050537  1620.050537  1620.050537  1620.050537  1620.050537  ...   \n",
       "4   1620.299072  1620.299072  1620.299072  1620.299072  1620.299072  ...   \n",
       "..          ...          ...          ...          ...          ...  ...   \n",
       "95  1620.208130  1620.208130  1620.208130  1620.208130  1620.208130  ...   \n",
       "96  1620.481934  1620.481934  1620.481934  1620.481934  1620.481934  ...   \n",
       "97  1620.258179  1620.258179  1620.258179  1620.258179  1620.258179  ...   \n",
       "98  1620.432495  1620.432495  1620.432495  1620.432495  1620.432495  ...   \n",
       "99  1620.313843  1620.313843  1620.313843  1620.313843  1620.313843  ...   \n",
       "\n",
       "           8501         8502         8503         8504         8505  \\\n",
       "0   1620.231323  1620.231323  1620.231323  1620.231323  1620.231323   \n",
       "1   1620.410889  1620.410889  1620.410889  1620.410889  1620.410889   \n",
       "2   1620.232666  1620.232666  1620.232666  1620.232666  1620.232666   \n",
       "3   1620.050537  1620.050537  1620.050537  1620.050537  1620.050537   \n",
       "4   1620.299072  1620.299072  1620.299072  1620.299072  1620.299072   \n",
       "..          ...          ...          ...          ...          ...   \n",
       "95  1620.208130  1620.208130  1620.208130  1620.208130  1620.208130   \n",
       "96  1620.481934  1620.481934  1620.481934  1620.481934  1620.481934   \n",
       "97  1620.258179  1620.258179  1620.258179  1620.258179  1620.258179   \n",
       "98  1620.432495  1620.432495  1620.432495  1620.432495  1620.432495   \n",
       "99  1620.313843  1620.313843  1620.313843  1620.313843  1620.313843   \n",
       "\n",
       "           8506         8507         8508         8509         8510  \n",
       "0   1620.231323  1620.231323  1620.231323  1620.231323  1620.231323  \n",
       "1   1620.410889  1620.410889  1620.410889  1620.410889  1620.410889  \n",
       "2   1620.232666  1620.232666  1620.232666  1620.232666  1620.232666  \n",
       "3   1620.050537  1620.050537  1620.050537  1620.050537  1620.050537  \n",
       "4   1620.299072  1620.299072  1620.299072  1620.299072  1620.299072  \n",
       "..          ...          ...          ...          ...          ...  \n",
       "95  1620.208130  1620.208130  1620.208130  1620.208130  1620.208130  \n",
       "96  1620.481934  1620.481934  1620.481934  1620.481934  1620.481934  \n",
       "97  1620.258179  1620.258179  1620.258179  1620.258179  1620.258179  \n",
       "98  1620.432495  1620.432495  1620.432495  1620.432495  1620.432495  \n",
       "99  1620.313843  1620.313843  1620.313843  1620.313843  1620.313843  \n",
       "\n",
       "[100 rows x 8511 columns]"
      ]
     },
     "execution_count": 23,
     "metadata": {},
     "output_type": "execute_result"
    }
   ],
   "source": [
    "# make the predictiondson the X_test and compare those predictions on the y_test\n",
    "ts_predictions = model.predict (X_test)\n",
    "ev_ts_data = pd.DataFrame (ts_predictions)\n",
    "\n",
    "ev_ts_data.T\n"
   ]
  },
  {
   "cell_type": "code",
   "execution_count": 24,
   "id": "4c1ffedb",
   "metadata": {
    "execution": {
     "iopub.execute_input": "2024-03-23T17:22:38.323573Z",
     "iopub.status.busy": "2024-03-23T17:22:38.323042Z",
     "iopub.status.idle": "2024-03-23T17:22:38.364383Z",
     "shell.execute_reply": "2024-03-23T17:22:38.363384Z"
    },
    "papermill": {
     "duration": 2.823672,
     "end_time": "2024-03-23T17:22:38.367025",
     "exception": false,
     "start_time": "2024-03-23T17:22:35.543353",
     "status": "completed"
    },
    "tags": []
   },
   "outputs": [
    {
     "data": {
      "text/html": [
       "<div>\n",
       "<style scoped>\n",
       "    .dataframe tbody tr th:only-of-type {\n",
       "        vertical-align: middle;\n",
       "    }\n",
       "\n",
       "    .dataframe tbody tr th {\n",
       "        vertical-align: top;\n",
       "    }\n",
       "\n",
       "    .dataframe thead th {\n",
       "        text-align: right;\n",
       "    }\n",
       "</style>\n",
       "<table border=\"1\" class=\"dataframe\">\n",
       "  <thead>\n",
       "    <tr style=\"text-align: right;\">\n",
       "      <th></th>\n",
       "      <th>0</th>\n",
       "      <th>1</th>\n",
       "      <th>2</th>\n",
       "      <th>3</th>\n",
       "      <th>4</th>\n",
       "      <th>5</th>\n",
       "      <th>6</th>\n",
       "      <th>7</th>\n",
       "      <th>8</th>\n",
       "      <th>9</th>\n",
       "      <th>...</th>\n",
       "      <th>90</th>\n",
       "      <th>91</th>\n",
       "      <th>92</th>\n",
       "      <th>93</th>\n",
       "      <th>94</th>\n",
       "      <th>95</th>\n",
       "      <th>96</th>\n",
       "      <th>97</th>\n",
       "      <th>98</th>\n",
       "      <th>99</th>\n",
       "    </tr>\n",
       "  </thead>\n",
       "  <tbody>\n",
       "    <tr>\n",
       "      <th>0</th>\n",
       "      <td>1620.231323</td>\n",
       "      <td>0.000000</td>\n",
       "      <td>0.000000</td>\n",
       "      <td>0.000000</td>\n",
       "      <td>0.000000</td>\n",
       "      <td>0.0</td>\n",
       "      <td>0.0</td>\n",
       "      <td>0.0</td>\n",
       "      <td>0.0</td>\n",
       "      <td>0.0</td>\n",
       "      <td>...</td>\n",
       "      <td>0.0</td>\n",
       "      <td>0.0</td>\n",
       "      <td>0.0</td>\n",
       "      <td>0.0</td>\n",
       "      <td>0.0</td>\n",
       "      <td>0.00000</td>\n",
       "      <td>0.000000</td>\n",
       "      <td>0.000000</td>\n",
       "      <td>0.000000</td>\n",
       "      <td>0.000000</td>\n",
       "    </tr>\n",
       "    <tr>\n",
       "      <th>1</th>\n",
       "      <td>0.000000</td>\n",
       "      <td>1620.410889</td>\n",
       "      <td>0.000000</td>\n",
       "      <td>0.000000</td>\n",
       "      <td>0.000000</td>\n",
       "      <td>0.0</td>\n",
       "      <td>0.0</td>\n",
       "      <td>0.0</td>\n",
       "      <td>0.0</td>\n",
       "      <td>0.0</td>\n",
       "      <td>...</td>\n",
       "      <td>0.0</td>\n",
       "      <td>0.0</td>\n",
       "      <td>0.0</td>\n",
       "      <td>0.0</td>\n",
       "      <td>0.0</td>\n",
       "      <td>0.00000</td>\n",
       "      <td>0.000000</td>\n",
       "      <td>0.000000</td>\n",
       "      <td>0.000000</td>\n",
       "      <td>0.000000</td>\n",
       "    </tr>\n",
       "    <tr>\n",
       "      <th>2</th>\n",
       "      <td>0.000000</td>\n",
       "      <td>0.000000</td>\n",
       "      <td>1620.232666</td>\n",
       "      <td>0.000000</td>\n",
       "      <td>0.000000</td>\n",
       "      <td>0.0</td>\n",
       "      <td>0.0</td>\n",
       "      <td>0.0</td>\n",
       "      <td>0.0</td>\n",
       "      <td>0.0</td>\n",
       "      <td>...</td>\n",
       "      <td>0.0</td>\n",
       "      <td>0.0</td>\n",
       "      <td>0.0</td>\n",
       "      <td>0.0</td>\n",
       "      <td>0.0</td>\n",
       "      <td>0.00000</td>\n",
       "      <td>0.000000</td>\n",
       "      <td>0.000000</td>\n",
       "      <td>0.000000</td>\n",
       "      <td>0.000000</td>\n",
       "    </tr>\n",
       "    <tr>\n",
       "      <th>3</th>\n",
       "      <td>0.000000</td>\n",
       "      <td>0.000000</td>\n",
       "      <td>0.000000</td>\n",
       "      <td>1620.050537</td>\n",
       "      <td>0.000000</td>\n",
       "      <td>0.0</td>\n",
       "      <td>0.0</td>\n",
       "      <td>0.0</td>\n",
       "      <td>0.0</td>\n",
       "      <td>0.0</td>\n",
       "      <td>...</td>\n",
       "      <td>0.0</td>\n",
       "      <td>0.0</td>\n",
       "      <td>0.0</td>\n",
       "      <td>0.0</td>\n",
       "      <td>0.0</td>\n",
       "      <td>0.00000</td>\n",
       "      <td>0.000000</td>\n",
       "      <td>0.000000</td>\n",
       "      <td>0.000000</td>\n",
       "      <td>0.000000</td>\n",
       "    </tr>\n",
       "    <tr>\n",
       "      <th>4</th>\n",
       "      <td>0.000000</td>\n",
       "      <td>0.000000</td>\n",
       "      <td>0.000000</td>\n",
       "      <td>0.000000</td>\n",
       "      <td>1620.299072</td>\n",
       "      <td>0.0</td>\n",
       "      <td>0.0</td>\n",
       "      <td>0.0</td>\n",
       "      <td>0.0</td>\n",
       "      <td>0.0</td>\n",
       "      <td>...</td>\n",
       "      <td>0.0</td>\n",
       "      <td>0.0</td>\n",
       "      <td>0.0</td>\n",
       "      <td>0.0</td>\n",
       "      <td>0.0</td>\n",
       "      <td>0.00000</td>\n",
       "      <td>0.000000</td>\n",
       "      <td>0.000000</td>\n",
       "      <td>0.000000</td>\n",
       "      <td>0.000000</td>\n",
       "    </tr>\n",
       "    <tr>\n",
       "      <th>...</th>\n",
       "      <td>...</td>\n",
       "      <td>...</td>\n",
       "      <td>...</td>\n",
       "      <td>...</td>\n",
       "      <td>...</td>\n",
       "      <td>...</td>\n",
       "      <td>...</td>\n",
       "      <td>...</td>\n",
       "      <td>...</td>\n",
       "      <td>...</td>\n",
       "      <td>...</td>\n",
       "      <td>...</td>\n",
       "      <td>...</td>\n",
       "      <td>...</td>\n",
       "      <td>...</td>\n",
       "      <td>...</td>\n",
       "      <td>...</td>\n",
       "      <td>...</td>\n",
       "      <td>...</td>\n",
       "      <td>...</td>\n",
       "      <td>...</td>\n",
       "    </tr>\n",
       "    <tr>\n",
       "      <th>95</th>\n",
       "      <td>0.000000</td>\n",
       "      <td>0.000000</td>\n",
       "      <td>0.000000</td>\n",
       "      <td>0.000000</td>\n",
       "      <td>0.000000</td>\n",
       "      <td>0.0</td>\n",
       "      <td>0.0</td>\n",
       "      <td>0.0</td>\n",
       "      <td>0.0</td>\n",
       "      <td>0.0</td>\n",
       "      <td>...</td>\n",
       "      <td>0.0</td>\n",
       "      <td>0.0</td>\n",
       "      <td>0.0</td>\n",
       "      <td>0.0</td>\n",
       "      <td>0.0</td>\n",
       "      <td>1620.20813</td>\n",
       "      <td>0.000000</td>\n",
       "      <td>0.000000</td>\n",
       "      <td>0.000000</td>\n",
       "      <td>0.000000</td>\n",
       "    </tr>\n",
       "    <tr>\n",
       "      <th>96</th>\n",
       "      <td>0.000000</td>\n",
       "      <td>0.000000</td>\n",
       "      <td>0.000000</td>\n",
       "      <td>0.000000</td>\n",
       "      <td>0.000000</td>\n",
       "      <td>0.0</td>\n",
       "      <td>0.0</td>\n",
       "      <td>0.0</td>\n",
       "      <td>0.0</td>\n",
       "      <td>0.0</td>\n",
       "      <td>...</td>\n",
       "      <td>0.0</td>\n",
       "      <td>0.0</td>\n",
       "      <td>0.0</td>\n",
       "      <td>0.0</td>\n",
       "      <td>0.0</td>\n",
       "      <td>0.00000</td>\n",
       "      <td>1620.481934</td>\n",
       "      <td>0.000000</td>\n",
       "      <td>0.000000</td>\n",
       "      <td>0.000000</td>\n",
       "    </tr>\n",
       "    <tr>\n",
       "      <th>97</th>\n",
       "      <td>0.000000</td>\n",
       "      <td>0.000000</td>\n",
       "      <td>0.000000</td>\n",
       "      <td>0.000000</td>\n",
       "      <td>0.000000</td>\n",
       "      <td>0.0</td>\n",
       "      <td>0.0</td>\n",
       "      <td>0.0</td>\n",
       "      <td>0.0</td>\n",
       "      <td>0.0</td>\n",
       "      <td>...</td>\n",
       "      <td>0.0</td>\n",
       "      <td>0.0</td>\n",
       "      <td>0.0</td>\n",
       "      <td>0.0</td>\n",
       "      <td>0.0</td>\n",
       "      <td>0.00000</td>\n",
       "      <td>0.000000</td>\n",
       "      <td>1620.258179</td>\n",
       "      <td>0.000000</td>\n",
       "      <td>0.000000</td>\n",
       "    </tr>\n",
       "    <tr>\n",
       "      <th>98</th>\n",
       "      <td>0.000000</td>\n",
       "      <td>0.000000</td>\n",
       "      <td>0.000000</td>\n",
       "      <td>0.000000</td>\n",
       "      <td>0.000000</td>\n",
       "      <td>0.0</td>\n",
       "      <td>0.0</td>\n",
       "      <td>0.0</td>\n",
       "      <td>0.0</td>\n",
       "      <td>0.0</td>\n",
       "      <td>...</td>\n",
       "      <td>0.0</td>\n",
       "      <td>0.0</td>\n",
       "      <td>0.0</td>\n",
       "      <td>0.0</td>\n",
       "      <td>0.0</td>\n",
       "      <td>0.00000</td>\n",
       "      <td>0.000000</td>\n",
       "      <td>0.000000</td>\n",
       "      <td>1620.432495</td>\n",
       "      <td>0.000000</td>\n",
       "    </tr>\n",
       "    <tr>\n",
       "      <th>99</th>\n",
       "      <td>0.000000</td>\n",
       "      <td>0.000000</td>\n",
       "      <td>0.000000</td>\n",
       "      <td>0.000000</td>\n",
       "      <td>0.000000</td>\n",
       "      <td>0.0</td>\n",
       "      <td>0.0</td>\n",
       "      <td>0.0</td>\n",
       "      <td>0.0</td>\n",
       "      <td>0.0</td>\n",
       "      <td>...</td>\n",
       "      <td>0.0</td>\n",
       "      <td>0.0</td>\n",
       "      <td>0.0</td>\n",
       "      <td>0.0</td>\n",
       "      <td>0.0</td>\n",
       "      <td>0.00000</td>\n",
       "      <td>0.000000</td>\n",
       "      <td>0.000000</td>\n",
       "      <td>0.000000</td>\n",
       "      <td>1620.313843</td>\n",
       "    </tr>\n",
       "  </tbody>\n",
       "</table>\n",
       "<p>100 rows × 100 columns</p>\n",
       "</div>"
      ],
      "text/plain": [
       "             0            1            2            3            4    5    6   \\\n",
       "0   1620.231323     0.000000     0.000000     0.000000     0.000000  0.0  0.0   \n",
       "1      0.000000  1620.410889     0.000000     0.000000     0.000000  0.0  0.0   \n",
       "2      0.000000     0.000000  1620.232666     0.000000     0.000000  0.0  0.0   \n",
       "3      0.000000     0.000000     0.000000  1620.050537     0.000000  0.0  0.0   \n",
       "4      0.000000     0.000000     0.000000     0.000000  1620.299072  0.0  0.0   \n",
       "..          ...          ...          ...          ...          ...  ...  ...   \n",
       "95     0.000000     0.000000     0.000000     0.000000     0.000000  0.0  0.0   \n",
       "96     0.000000     0.000000     0.000000     0.000000     0.000000  0.0  0.0   \n",
       "97     0.000000     0.000000     0.000000     0.000000     0.000000  0.0  0.0   \n",
       "98     0.000000     0.000000     0.000000     0.000000     0.000000  0.0  0.0   \n",
       "99     0.000000     0.000000     0.000000     0.000000     0.000000  0.0  0.0   \n",
       "\n",
       "     7    8    9   ...   90   91   92   93   94          95           96  \\\n",
       "0   0.0  0.0  0.0  ...  0.0  0.0  0.0  0.0  0.0     0.00000     0.000000   \n",
       "1   0.0  0.0  0.0  ...  0.0  0.0  0.0  0.0  0.0     0.00000     0.000000   \n",
       "2   0.0  0.0  0.0  ...  0.0  0.0  0.0  0.0  0.0     0.00000     0.000000   \n",
       "3   0.0  0.0  0.0  ...  0.0  0.0  0.0  0.0  0.0     0.00000     0.000000   \n",
       "4   0.0  0.0  0.0  ...  0.0  0.0  0.0  0.0  0.0     0.00000     0.000000   \n",
       "..  ...  ...  ...  ...  ...  ...  ...  ...  ...         ...          ...   \n",
       "95  0.0  0.0  0.0  ...  0.0  0.0  0.0  0.0  0.0  1620.20813     0.000000   \n",
       "96  0.0  0.0  0.0  ...  0.0  0.0  0.0  0.0  0.0     0.00000  1620.481934   \n",
       "97  0.0  0.0  0.0  ...  0.0  0.0  0.0  0.0  0.0     0.00000     0.000000   \n",
       "98  0.0  0.0  0.0  ...  0.0  0.0  0.0  0.0  0.0     0.00000     0.000000   \n",
       "99  0.0  0.0  0.0  ...  0.0  0.0  0.0  0.0  0.0     0.00000     0.000000   \n",
       "\n",
       "             97           98           99  \n",
       "0      0.000000     0.000000     0.000000  \n",
       "1      0.000000     0.000000     0.000000  \n",
       "2      0.000000     0.000000     0.000000  \n",
       "3      0.000000     0.000000     0.000000  \n",
       "4      0.000000     0.000000     0.000000  \n",
       "..          ...          ...          ...  \n",
       "95     0.000000     0.000000     0.000000  \n",
       "96     0.000000     0.000000     0.000000  \n",
       "97  1620.258179     0.000000     0.000000  \n",
       "98     0.000000  1620.432495     0.000000  \n",
       "99     0.000000     0.000000  1620.313843  \n",
       "\n",
       "[100 rows x 100 columns]"
      ]
     },
     "execution_count": 24,
     "metadata": {},
     "output_type": "execute_result"
    }
   ],
   "source": [
    "dia_ele = np.diag(ev_ts_data)\n",
    "df = pd.DataFrame(np.diag(dia_ele))\n",
    "df"
   ]
  },
  {
   "cell_type": "code",
   "execution_count": 25,
   "id": "53b023ab",
   "metadata": {
    "execution": {
     "iopub.execute_input": "2024-03-23T17:22:43.677178Z",
     "iopub.status.busy": "2024-03-23T17:22:43.676157Z",
     "iopub.status.idle": "2024-03-23T17:22:43.682861Z",
     "shell.execute_reply": "2024-03-23T17:22:43.681830Z"
    },
    "papermill": {
     "duration": 2.588927,
     "end_time": "2024-03-23T17:22:43.685165",
     "exception": false,
     "start_time": "2024-03-23T17:22:41.096238",
     "status": "completed"
    },
    "tags": []
   },
   "outputs": [
    {
     "data": {
      "text/plain": [
       "(100,)"
      ]
     },
     "execution_count": 25,
     "metadata": {},
     "output_type": "execute_result"
    }
   ],
   "source": [
    "y_test.shape"
   ]
  }
 ],
 "metadata": {
  "kaggle": {
   "accelerator": "nvidiaTeslaT4",
   "dataSources": [
    {
     "datasetId": 1671405,
     "sourceId": 6892858,
     "sourceType": "datasetVersion"
    }
   ],
   "dockerImageVersionId": 30674,
   "isGpuEnabled": true,
   "isInternetEnabled": true,
   "language": "python",
   "sourceType": "notebook"
  },
  "kernelspec": {
   "display_name": "Python 3",
   "language": "python",
   "name": "python3"
  },
  "language_info": {
   "codemirror_mode": {
    "name": "ipython",
    "version": 3
   },
   "file_extension": ".py",
   "mimetype": "text/x-python",
   "name": "python",
   "nbconvert_exporter": "python",
   "pygments_lexer": "ipython3",
   "version": "3.10.13"
  },
  "papermill": {
   "default_parameters": {},
   "duration": 1599.522497,
   "end_time": "2024-03-23T17:22:48.939524",
   "environment_variables": {},
   "exception": null,
   "input_path": "__notebook__.ipynb",
   "output_path": "__notebook__.ipynb",
   "parameters": {},
   "start_time": "2024-03-23T16:56:09.417027",
   "version": "2.5.0"
  }
 },
 "nbformat": 4,
 "nbformat_minor": 5
}
